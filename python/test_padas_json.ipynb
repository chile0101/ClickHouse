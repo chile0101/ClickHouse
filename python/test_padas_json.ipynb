{
 "cells": [
  {
   "cell_type": "code",
   "execution_count": 3,
   "metadata": {
    "collapsed": true
   },
   "outputs": [],
   "source": [
    "import pandas as pd"
   ]
  },
  {
   "cell_type": "code",
   "execution_count": 24,
   "outputs": [
    {
     "data": {
      "text/plain": "[{'tenant_id': 1,\n  'anonymous_id': 'a1',\n  'date_unix': 1604793600,\n  'time_unix': 1604793600,\n  'session_id': 'session-123',\n  'event_name': 'App Launched',\n  'identities': [],\n  'str_pros': [('product', 'Iphone X'), ('device', 'Laptop')],\n  'num_pros': [],\n  'arr_pros': [('', [])]},\n {'tenant_id': 1,\n  'anonymous_id': 'a1',\n  'date_unix': 1599696000,\n  'time_unix': 1599708028,\n  'session_id': 'session-345',\n  'event_name': 'App Uninstalled',\n  'identities': [],\n  'str_pros': [('product', 'Iphone X'), ('device', 'Laptop')],\n  'num_pros': [],\n  'arr_pros': [('', [])]},\n {'tenant_id': 1,\n  'anonymous_id': 'a1',\n  'date_unix': 1599696000,\n  'time_unix': 1599708025,\n  'session_id': 'session-123',\n  'event_name': 'Category Viewed',\n  'identities': [],\n  'str_pros': [('product', 'Iphone X'), ('device', 'Laptop')],\n  'num_pros': [],\n  'arr_pros': [('', [])]},\n {'tenant_id': 1,\n  'anonymous_id': 'a1',\n  'date_unix': 1599696000,\n  'time_unix': 1599708023,\n  'session_id': 'session-345',\n  'event_name': 'App Uninstalled',\n  'identities': [],\n  'str_pros': [('product', 'Xiaomi'), ('device', 'Laptop')],\n  'num_pros': [],\n  'arr_pros': [('', [])]},\n {'tenant_id': 1,\n  'anonymous_id': 'a1',\n  'date_unix': 1599696000,\n  'time_unix': 1599708021,\n  'session_id': 'session-345',\n  'event_name': 'Category Viewed',\n  'identities': [],\n  'str_pros': [('product', 'Iphone X'), ('device', 'Laptop')],\n  'num_pros': [],\n  'arr_pros': [('', [])]},\n {'tenant_id': 1,\n  'anonymous_id': 'a1',\n  'date_unix': 1599696000,\n  'time_unix': 1599708020,\n  'session_id': 'session-345',\n  'event_name': 'App Launched',\n  'identities': [],\n  'str_pros': [('product', 'Xiaomi'), ('device', 'Mobile')],\n  'num_pros': [],\n  'arr_pros': [('', [])]}]"
     },
     "execution_count": 24,
     "metadata": {},
     "output_type": "execute_result"
    }
   ],
   "source": [
    "data =  [{'tenant_id': 1, 'anonymous_id': 'a1', 'date_unix': 1604793600, 'time_unix': 1604793600, 'session_id': 'session-123', 'event_name': 'App Launched', 'identities': [], 'str_pros': [('product', 'Iphone X'), ('device', 'Laptop')], 'num_pros': [], 'arr_pros': [('', [])]}, {'tenant_id': 1, 'anonymous_id': 'a1', 'date_unix': 1599696000, 'time_unix': 1599708028, 'session_id': 'session-345', 'event_name': 'App Uninstalled', 'identities': [], 'str_pros': [('product', 'Iphone X'), ('device', 'Laptop')], 'num_pros': [], 'arr_pros': [('', [])]}, {'tenant_id': 1, 'anonymous_id': 'a1', 'date_unix': 1599696000, 'time_unix': 1599708025, 'session_id': 'session-123', 'event_name': 'Category Viewed', 'identities': [], 'str_pros': [('product', 'Iphone X'), ('device', 'Laptop')], 'num_pros': [], 'arr_pros': [('', [])]}, {'tenant_id': 1, 'anonymous_id': 'a1', 'date_unix': 1599696000, 'time_unix': 1599708023, 'session_id': 'session-345', 'event_name': 'App Uninstalled', 'identities': [], 'str_pros': [('product', 'Xiaomi'), ('device', 'Laptop')], 'num_pros': [], 'arr_pros': [('', [])]}, {'tenant_id': 1, 'anonymous_id': 'a1', 'date_unix': 1599696000, 'time_unix': 1599708021, 'session_id': 'session-345', 'event_name': 'Category Viewed', 'identities': [], 'str_pros': [('product', 'Iphone X'), ('device', 'Laptop')], 'num_pros': [], 'arr_pros': [('', [])]}, {'tenant_id': 1, 'anonymous_id': 'a1', 'date_unix': 1599696000, 'time_unix': 1599708020, 'session_id': 'session-345', 'event_name': 'App Launched', 'identities': [], 'str_pros': [('product', 'Xiaomi'), ('device', 'Mobile')], 'num_pros': [], 'arr_pros': [('', [])]}]\n",
    "data"
   ],
   "metadata": {
    "collapsed": false,
    "pycharm": {
     "name": "#%%\n"
    }
   }
  },
  {
   "cell_type": "code",
   "execution_count": 25,
   "outputs": [
    {
     "data": {
      "text/plain": "   index  tenant_id anonymous_id   date_unix   time_unix   session_id  \\\n0      0          1           a1  1604793600  1604793600  session-123   \n1      1          1           a1  1599696000  1599708028  session-345   \n2      2          1           a1  1599696000  1599708025  session-123   \n3      3          1           a1  1599696000  1599708023  session-345   \n4      4          1           a1  1599696000  1599708021  session-345   \n5      5          1           a1  1599696000  1599708020  session-345   \n\n        event_name identities                                 str_pros  \\\n0     App Launched         []  [(product, Iphone X), (device, Laptop)]   \n1  App Uninstalled         []  [(product, Iphone X), (device, Laptop)]   \n2  Category Viewed         []  [(product, Iphone X), (device, Laptop)]   \n3  App Uninstalled         []    [(product, Xiaomi), (device, Laptop)]   \n4  Category Viewed         []  [(product, Iphone X), (device, Laptop)]   \n5     App Launched         []    [(product, Xiaomi), (device, Mobile)]   \n\n  num_pros  arr_pros  \n0       []  [(, [])]  \n1       []  [(, [])]  \n2       []  [(, [])]  \n3       []  [(, [])]  \n4       []  [(, [])]  \n5       []  [(, [])]  ",
      "text/html": "<div>\n<style scoped>\n    .dataframe tbody tr th:only-of-type {\n        vertical-align: middle;\n    }\n\n    .dataframe tbody tr th {\n        vertical-align: top;\n    }\n\n    .dataframe thead th {\n        text-align: right;\n    }\n</style>\n<table border=\"1\" class=\"dataframe\">\n  <thead>\n    <tr style=\"text-align: right;\">\n      <th></th>\n      <th>index</th>\n      <th>tenant_id</th>\n      <th>anonymous_id</th>\n      <th>date_unix</th>\n      <th>time_unix</th>\n      <th>session_id</th>\n      <th>event_name</th>\n      <th>identities</th>\n      <th>str_pros</th>\n      <th>num_pros</th>\n      <th>arr_pros</th>\n    </tr>\n  </thead>\n  <tbody>\n    <tr>\n      <th>0</th>\n      <td>0</td>\n      <td>1</td>\n      <td>a1</td>\n      <td>1604793600</td>\n      <td>1604793600</td>\n      <td>session-123</td>\n      <td>App Launched</td>\n      <td>[]</td>\n      <td>[(product, Iphone X), (device, Laptop)]</td>\n      <td>[]</td>\n      <td>[(, [])]</td>\n    </tr>\n    <tr>\n      <th>1</th>\n      <td>1</td>\n      <td>1</td>\n      <td>a1</td>\n      <td>1599696000</td>\n      <td>1599708028</td>\n      <td>session-345</td>\n      <td>App Uninstalled</td>\n      <td>[]</td>\n      <td>[(product, Iphone X), (device, Laptop)]</td>\n      <td>[]</td>\n      <td>[(, [])]</td>\n    </tr>\n    <tr>\n      <th>2</th>\n      <td>2</td>\n      <td>1</td>\n      <td>a1</td>\n      <td>1599696000</td>\n      <td>1599708025</td>\n      <td>session-123</td>\n      <td>Category Viewed</td>\n      <td>[]</td>\n      <td>[(product, Iphone X), (device, Laptop)]</td>\n      <td>[]</td>\n      <td>[(, [])]</td>\n    </tr>\n    <tr>\n      <th>3</th>\n      <td>3</td>\n      <td>1</td>\n      <td>a1</td>\n      <td>1599696000</td>\n      <td>1599708023</td>\n      <td>session-345</td>\n      <td>App Uninstalled</td>\n      <td>[]</td>\n      <td>[(product, Xiaomi), (device, Laptop)]</td>\n      <td>[]</td>\n      <td>[(, [])]</td>\n    </tr>\n    <tr>\n      <th>4</th>\n      <td>4</td>\n      <td>1</td>\n      <td>a1</td>\n      <td>1599696000</td>\n      <td>1599708021</td>\n      <td>session-345</td>\n      <td>Category Viewed</td>\n      <td>[]</td>\n      <td>[(product, Iphone X), (device, Laptop)]</td>\n      <td>[]</td>\n      <td>[(, [])]</td>\n    </tr>\n    <tr>\n      <th>5</th>\n      <td>5</td>\n      <td>1</td>\n      <td>a1</td>\n      <td>1599696000</td>\n      <td>1599708020</td>\n      <td>session-345</td>\n      <td>App Launched</td>\n      <td>[]</td>\n      <td>[(product, Xiaomi), (device, Mobile)]</td>\n      <td>[]</td>\n      <td>[(, [])]</td>\n    </tr>\n  </tbody>\n</table>\n</div>"
     },
     "execution_count": 25,
     "metadata": {},
     "output_type": "execute_result"
    }
   ],
   "source": [
    "df = pd.DataFrame.from_dict(data)\n",
    "df.reset_index()"
   ],
   "metadata": {
    "collapsed": false,
    "pycharm": {
     "name": "#%%\n"
    }
   }
  },
  {
   "cell_type": "code",
   "execution_count": 26,
   "outputs": [],
   "source": [
    "new_df = df.groupby(['date_unix','session_id'])"
   ],
   "metadata": {
    "collapsed": false,
    "pycharm": {
     "name": "#%%\n"
    }
   }
  },
  {
   "cell_type": "code",
   "execution_count": 28,
   "outputs": [
    {
     "data": {
      "text/plain": "                        tenant_id anonymous_id   time_unix       event_name  \\\ndate_unix  session_id                                                         \n1599696000 session-123          1           a1  1599708025  Category Viewed   \n           session-345          1           a1  1599708028  App Uninstalled   \n1604793600 session-123          1           a1  1604793600     App Launched   \n\n                       identities                                 str_pros  \\\ndate_unix  session_id                                                        \n1599696000 session-123         []  [(product, Iphone X), (device, Laptop)]   \n           session-345         []  [(product, Iphone X), (device, Laptop)]   \n1604793600 session-123         []  [(product, Iphone X), (device, Laptop)]   \n\n                       num_pros  arr_pros  \ndate_unix  session_id                      \n1599696000 session-123       []  [(, [])]  \n           session-345       []  [(, [])]  \n1604793600 session-123       []  [(, [])]  ",
      "text/html": "<div>\n<style scoped>\n    .dataframe tbody tr th:only-of-type {\n        vertical-align: middle;\n    }\n\n    .dataframe tbody tr th {\n        vertical-align: top;\n    }\n\n    .dataframe thead th {\n        text-align: right;\n    }\n</style>\n<table border=\"1\" class=\"dataframe\">\n  <thead>\n    <tr style=\"text-align: right;\">\n      <th></th>\n      <th></th>\n      <th>tenant_id</th>\n      <th>anonymous_id</th>\n      <th>time_unix</th>\n      <th>event_name</th>\n      <th>identities</th>\n      <th>str_pros</th>\n      <th>num_pros</th>\n      <th>arr_pros</th>\n    </tr>\n    <tr>\n      <th>date_unix</th>\n      <th>session_id</th>\n      <th></th>\n      <th></th>\n      <th></th>\n      <th></th>\n      <th></th>\n      <th></th>\n      <th></th>\n      <th></th>\n    </tr>\n  </thead>\n  <tbody>\n    <tr>\n      <th rowspan=\"2\" valign=\"top\">1599696000</th>\n      <th>session-123</th>\n      <td>1</td>\n      <td>a1</td>\n      <td>1599708025</td>\n      <td>Category Viewed</td>\n      <td>[]</td>\n      <td>[(product, Iphone X), (device, Laptop)]</td>\n      <td>[]</td>\n      <td>[(, [])]</td>\n    </tr>\n    <tr>\n      <th>session-345</th>\n      <td>1</td>\n      <td>a1</td>\n      <td>1599708028</td>\n      <td>App Uninstalled</td>\n      <td>[]</td>\n      <td>[(product, Iphone X), (device, Laptop)]</td>\n      <td>[]</td>\n      <td>[(, [])]</td>\n    </tr>\n    <tr>\n      <th>1604793600</th>\n      <th>session-123</th>\n      <td>1</td>\n      <td>a1</td>\n      <td>1604793600</td>\n      <td>App Launched</td>\n      <td>[]</td>\n      <td>[(product, Iphone X), (device, Laptop)]</td>\n      <td>[]</td>\n      <td>[(, [])]</td>\n    </tr>\n  </tbody>\n</table>\n</div>"
     },
     "execution_count": 28,
     "metadata": {},
     "output_type": "execute_result"
    }
   ],
   "source": [
    "new_df.first()"
   ],
   "metadata": {
    "collapsed": false,
    "pycharm": {
     "name": "#%%\n"
    }
   }
  },
  {
   "cell_type": "code",
   "execution_count": 67,
   "outputs": [
    {
     "name": "stdout",
     "output_type": "stream",
     "text": [
      "-----------------------\n",
      "date : 1599696000\n",
      "\n",
      "session : session-123 \n",
      "[\"event : ('Category Viewed', 1599708025, [('product', 'Iphone X'), ('device', 'Laptop')])\"]\n",
      "-----------------------\n",
      "date : 1599696000\n",
      "\n",
      "\n",
      "\n",
      "\n",
      "session : session-345 \n",
      "[\"event : ('App Uninstalled', 1599708028, [('product', 'Iphone X'), ('device', 'Laptop')])\", \"event : ('App Uninstalled', 1599708023, [('product', 'Xiaomi'), ('device', 'Laptop')])\", \"event : ('Category Viewed', 1599708021, [('product', 'Iphone X'), ('device', 'Laptop')])\", \"event : ('App Launched', 1599708020, [('product', 'Xiaomi'), ('device', 'Mobile')])\"]\n",
      "-----------------------\n",
      "date : 1604793600\n",
      "\n",
      "session : session-123 \n",
      "[\"event : ('App Launched', 1604793600, [('product', 'Iphone X'), ('device', 'Laptop')])\"]\n"
     ]
    },
    {
     "data": {
      "text/plain": "Empty DataFrame\nColumns: []\nIndex: []",
      "text/html": "<div>\n<style scoped>\n    .dataframe tbody tr th:only-of-type {\n        vertical-align: middle;\n    }\n\n    .dataframe tbody tr th {\n        vertical-align: top;\n    }\n\n    .dataframe thead th {\n        text-align: right;\n    }\n</style>\n<table border=\"1\" class=\"dataframe\">\n  <thead>\n    <tr style=\"text-align: right;\">\n      <th></th>\n    </tr>\n  </thead>\n  <tbody>\n  </tbody>\n</table>\n</div>"
     },
     "execution_count": 67,
     "metadata": {},
     "output_type": "execute_result"
    }
   ],
   "source": [
    "pd.set_option('display.expand_frame_repr', False)\n",
    "\n",
    "\n",
    "\n",
    "def process_row(row, events):\n",
    "    dict_ = row.to_dict()\n",
    "    events.append(Events(dict_.get('event_name'), dict_.get('time_unix'), dict_.get('str_pros') + dict_.get('num_pros')  ) )\n",
    "    return events\n",
    "\n",
    "\n",
    "\n",
    "def process_grouped(group_id, grouped: pd.DataFrame):\n",
    "    print(\"-----------------------\")\n",
    "    print(f\"date : %s\"%group_id[0])\n",
    "    events = []\n",
    "    grouped.apply(lambda r: process_row(row=r, events = events), axis=1)\n",
    "    print(f\"session : %s \" % group_id[1])\n",
    "    print(events)\n",
    "\n",
    "\n",
    "\n",
    "\n",
    "\n",
    " df.groupby(['date_unix','session_id'])\\\n",
    "   .apply(lambda x : process_grouped(x.name,x[['event_name', 'time_unix','str_pros', 'num_pros', 'arr_pros']]))\n",
    "\n",
    "\n"
   ],
   "metadata": {
    "collapsed": false,
    "pycharm": {
     "name": "#%%\n"
    }
   }
  },
  {
   "cell_type": "code",
   "execution_count": null,
   "outputs": [],
   "source": [],
   "metadata": {
    "collapsed": false,
    "pycharm": {
     "name": "#%%\n"
    }
   }
  }
 ],
 "metadata": {
  "kernelspec": {
   "display_name": "Python 3",
   "language": "python",
   "name": "python3"
  },
  "language_info": {
   "codemirror_mode": {
    "name": "ipython",
    "version": 2
   },
   "file_extension": ".py",
   "mimetype": "text/x-python",
   "name": "python",
   "nbconvert_exporter": "python",
   "pygments_lexer": "ipython2",
   "version": "2.7.6"
  }
 },
 "nbformat": 4,
 "nbformat_minor": 0
}