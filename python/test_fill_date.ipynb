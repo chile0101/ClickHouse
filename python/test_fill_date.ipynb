{
 "cells": [
  {
   "cell_type": "code",
   "execution_count": 4,
   "metadata": {
    "collapsed": true,
    "pycharm": {
     "name": "#%%\n"
    }
   },
   "outputs": [],
   "source": [
    "\n",
    "import pandas as pd\n",
    "\n",
    "x = pd.DataFrame({'dt': ['2016-01-01','2016-01-03', '2016-01-04','2016-01-01','2016-01-01','2016-01-04']\n",
    "                    ,'amount': [10.0,30.0,40.0,78.0,80.0,82.0]\n",
    "                    , 'sub_id': [1,1,1,2,2,2]\n",
    "                    })\n",
    "\n",
    "\n",
    "x.dt = pd.to_datetime(x.dt)\n",
    "x\n",
    "\n",
    "\n",
    "cols = ['dt', 'sub_id']\n",
    "\n",
    "\n",
    "result = pd.concat([\n",
    "    d.asfreq('D').ffill(downcast='infer')\n",
    "    for _, d in x.drop_duplicates(cols, keep='last')\n",
    "                 .set_index('dt').groupby('sub_id')\n",
    "]).reset_index()\n",
    "\n",
    "result\n",
    "\n",
    "\n",
    "import datetime\n",
    "\n",
    "data = [\n",
    "{'tenant_id': 1, 'segment_id': 's1', 'total_user': 5.0, 'time_stamp': datetime.datetime(2020, 9, 16, 0, 0 )}, \n",
    "{'tenant_id': 1, 'segment_id': 's1', 'total_user': 3.0, 'time_stamp': datetime.datetime(2020, 9, 14, 0, 0 )}, \n",
    "{'tenant_id': 1, 'segment_id': 's1', 'total_user': 5.0, 'time_stamp': datetime.datetime(2020, 9, 10, 0, 0 )}, \n",
    "{'tenant_id': 1, 'segment_id': 's1', 'total_user': 2.0, 'time_stamp': datetime.datetime(2020, 9, 11, 0, 0 )}, \n",
    "{'tenant_id': 1, 'segment_id': 's1', 'total_user': 2.0, 'time_stamp': datetime.datetime(2020, 9, 15, 0, 0 )}, \n",
    "{'tenant_id': 1, 'segment_id': 's1', 'total_user': 4.0, 'time_stamp': datetime.datetime(2020, 9, 9, 0, 0 )}\n",
    "]\n",
    "\n",
    "\n",
    "df = pd.DataFrame.from_dict(data)"
   ]
  },
  {
   "cell_type": "code",
   "execution_count": 5,
   "outputs": [
    {
     "data": {
      "text/plain": "   tenant_id segment_id  total_user time_stamp\n0          1         s1         5.0 2020-09-16\n1          1         s1         3.0 2020-09-14\n2          1         s1         5.0 2020-09-10\n3          1         s1         2.0 2020-09-11\n4          1         s1         2.0 2020-09-15\n5          1         s1         4.0 2020-09-09",
      "text/html": "<div>\n<style scoped>\n    .dataframe tbody tr th:only-of-type {\n        vertical-align: middle;\n    }\n\n    .dataframe tbody tr th {\n        vertical-align: top;\n    }\n\n    .dataframe thead th {\n        text-align: right;\n    }\n</style>\n<table border=\"1\" class=\"dataframe\">\n  <thead>\n    <tr style=\"text-align: right;\">\n      <th></th>\n      <th>tenant_id</th>\n      <th>segment_id</th>\n      <th>total_user</th>\n      <th>time_stamp</th>\n    </tr>\n  </thead>\n  <tbody>\n    <tr>\n      <th>0</th>\n      <td>1</td>\n      <td>s1</td>\n      <td>5.0</td>\n      <td>2020-09-16</td>\n    </tr>\n    <tr>\n      <th>1</th>\n      <td>1</td>\n      <td>s1</td>\n      <td>3.0</td>\n      <td>2020-09-14</td>\n    </tr>\n    <tr>\n      <th>2</th>\n      <td>1</td>\n      <td>s1</td>\n      <td>5.0</td>\n      <td>2020-09-10</td>\n    </tr>\n    <tr>\n      <th>3</th>\n      <td>1</td>\n      <td>s1</td>\n      <td>2.0</td>\n      <td>2020-09-11</td>\n    </tr>\n    <tr>\n      <th>4</th>\n      <td>1</td>\n      <td>s1</td>\n      <td>2.0</td>\n      <td>2020-09-15</td>\n    </tr>\n    <tr>\n      <th>5</th>\n      <td>1</td>\n      <td>s1</td>\n      <td>4.0</td>\n      <td>2020-09-09</td>\n    </tr>\n  </tbody>\n</table>\n</div>"
     },
     "execution_count": 5,
     "metadata": {},
     "output_type": "execute_result"
    }
   ],
   "source": [
    "df"
   ],
   "metadata": {
    "collapsed": false,
    "pycharm": {
     "name": "#%%\n"
    }
   }
  },
  {
   "cell_type": "code",
   "execution_count": 6,
   "outputs": [
    {
     "data": {
      "text/plain": "   tenant_id segment_id  total_user time_stamp\n0          1         s1         5.0 2020-09-16\n1          1         s1         3.0 2020-09-14\n2          1         s1         5.0 2020-09-10\n3          1         s1         2.0 2020-09-11\n4          1         s1         2.0 2020-09-15",
      "text/html": "<div>\n<style scoped>\n    .dataframe tbody tr th:only-of-type {\n        vertical-align: middle;\n    }\n\n    .dataframe tbody tr th {\n        vertical-align: top;\n    }\n\n    .dataframe thead th {\n        text-align: right;\n    }\n</style>\n<table border=\"1\" class=\"dataframe\">\n  <thead>\n    <tr style=\"text-align: right;\">\n      <th></th>\n      <th>tenant_id</th>\n      <th>segment_id</th>\n      <th>total_user</th>\n      <th>time_stamp</th>\n    </tr>\n  </thead>\n  <tbody>\n    <tr>\n      <th>0</th>\n      <td>1</td>\n      <td>s1</td>\n      <td>5.0</td>\n      <td>2020-09-16</td>\n    </tr>\n    <tr>\n      <th>1</th>\n      <td>1</td>\n      <td>s1</td>\n      <td>3.0</td>\n      <td>2020-09-14</td>\n    </tr>\n    <tr>\n      <th>2</th>\n      <td>1</td>\n      <td>s1</td>\n      <td>5.0</td>\n      <td>2020-09-10</td>\n    </tr>\n    <tr>\n      <th>3</th>\n      <td>1</td>\n      <td>s1</td>\n      <td>2.0</td>\n      <td>2020-09-11</td>\n    </tr>\n    <tr>\n      <th>4</th>\n      <td>1</td>\n      <td>s1</td>\n      <td>2.0</td>\n      <td>2020-09-15</td>\n    </tr>\n  </tbody>\n</table>\n</div>"
     },
     "execution_count": 6,
     "metadata": {},
     "output_type": "execute_result"
    }
   ],
   "source": [
    "df.time_stamp = pd.to_datetime(df.time_stamp)\n",
    "\n",
    "df.head()"
   ],
   "metadata": {
    "collapsed": false,
    "pycharm": {
     "name": "#%%\n"
    }
   }
  },
  {
   "cell_type": "code",
   "execution_count": 50,
   "outputs": [
    {
     "name": "stdout",
     "output_type": "stream",
     "text": [
      "((1, 's1'),             tenant_id segment_id  total_user\n",
      "time_stamp                                  \n",
      "2020-09-16          1         s1         5.0\n",
      "2020-09-14          1         s1         3.0\n",
      "2020-09-10          1         s1         5.0\n",
      "2020-09-11          1         s1         2.0\n",
      "2020-09-15          1         s1         2.0\n",
      "2020-09-09          1         s1         4.0)\n"
     ]
    }
   ],
   "source": [
    "cols = ['time_stamp', 'tenant_id', 'segment_id']\n",
    "\n",
    "result = pd.concat([\n",
    "    d.asfreq('D').ffill(downcast='infer')\n",
    "    for _, d in df.set_index('time_stamp').groupby(['tenant_id','segment_id'])\n",
    "]).reset_index()\n",
    "\n",
    "\n",
    "result\n",
    "\n",
    "\n",
    "[d.asfreq('D').ffill(downcast='infer') for _, d in df.set_index('time_stamp').groupby(['tenant_id','segment_id']) ]\n",
    "\n",
    "for group in df.set_index('time_stamp').groupby(['tenant_id','segment_id']):\n",
    "    print(group)"
   ],
   "metadata": {
    "collapsed": false,
    "pycharm": {
     "name": "#%%\n"
    }
   }
  },
  {
   "cell_type": "code",
   "execution_count": 7,
   "outputs": [],
   "source": [
    "\n",
    "data = [\n",
    "{'tenant_id': 1, 'segment_id': 's1', 'total_user': 5.0, 'time_stamp': datetime.datetime(2020, 9, 1, 0, 0 )},\n",
    "{'tenant_id': 1, 'segment_id': 's1', 'total_user': 3.0, 'time_stamp': datetime.datetime(2020, 9, 8, 0, 0 )},\n",
    "{'tenant_id': 1, 'segment_id': 's1', 'total_user': 5.0, 'time_stamp': datetime.datetime(2020, 9, 22, 0, 0 )},\n",
    "{'tenant_id': 1, 'segment_id': 's1', 'total_user': 2.0, 'time_stamp': datetime.datetime(2020, 10, 5, 0, 0 )},\n",
    "{'tenant_id': 1, 'segment_id': 's1', 'total_user': 4.0, 'time_stamp': datetime.datetime(2020, 10, 9, 0, 0 )}\n",
    "]\n",
    "\n",
    "\n",
    "df = pd.DataFrame.from_dict(data)\n"
   ],
   "metadata": {
    "collapsed": false,
    "pycharm": {
     "name": "#%%\n"
    }
   }
  },
  {
   "cell_type": "code",
   "execution_count": 9,
   "outputs": [
    {
     "data": {
      "text/plain": "   tenant_id segment_id  total_user time_stamp\n0          1         s1         5.0 2020-09-01\n1          1         s1         3.0 2020-09-08\n2          1         s1         5.0 2020-09-22\n3          1         s1         2.0 2020-10-05\n4          1         s1         4.0 2020-10-09",
      "text/html": "<div>\n<style scoped>\n    .dataframe tbody tr th:only-of-type {\n        vertical-align: middle;\n    }\n\n    .dataframe tbody tr th {\n        vertical-align: top;\n    }\n\n    .dataframe thead th {\n        text-align: right;\n    }\n</style>\n<table border=\"1\" class=\"dataframe\">\n  <thead>\n    <tr style=\"text-align: right;\">\n      <th></th>\n      <th>tenant_id</th>\n      <th>segment_id</th>\n      <th>total_user</th>\n      <th>time_stamp</th>\n    </tr>\n  </thead>\n  <tbody>\n    <tr>\n      <th>0</th>\n      <td>1</td>\n      <td>s1</td>\n      <td>5.0</td>\n      <td>2020-09-01</td>\n    </tr>\n    <tr>\n      <th>1</th>\n      <td>1</td>\n      <td>s1</td>\n      <td>3.0</td>\n      <td>2020-09-08</td>\n    </tr>\n    <tr>\n      <th>2</th>\n      <td>1</td>\n      <td>s1</td>\n      <td>5.0</td>\n      <td>2020-09-22</td>\n    </tr>\n    <tr>\n      <th>3</th>\n      <td>1</td>\n      <td>s1</td>\n      <td>2.0</td>\n      <td>2020-10-05</td>\n    </tr>\n    <tr>\n      <th>4</th>\n      <td>1</td>\n      <td>s1</td>\n      <td>4.0</td>\n      <td>2020-10-09</td>\n    </tr>\n  </tbody>\n</table>\n</div>"
     },
     "execution_count": 9,
     "metadata": {},
     "output_type": "execute_result"
    }
   ],
   "source": [
    "df.sort_values(by=['time_stamp'], inplace=True)\n",
    "\n",
    "\n",
    "df"
   ],
   "metadata": {
    "collapsed": false,
    "pycharm": {
     "name": "#%%\n"
    }
   }
  },
  {
   "cell_type": "code",
   "execution_count": 10,
   "outputs": [
    {
     "data": {
      "text/plain": "    tenant_id segment_id time_stamp  total_user\n0           1         s1 2020-09-01         5.0\n1           1         s1 2020-09-02         5.0\n2           1         s1 2020-09-03         5.0\n3           1         s1 2020-09-04         5.0\n4           1         s1 2020-09-05         5.0\n5           1         s1 2020-09-06         5.0\n6           1         s1 2020-09-07         5.0\n7           1         s1 2020-09-08         3.0\n8           1         s1 2020-09-09         3.0\n9           1         s1 2020-09-10         3.0\n10          1         s1 2020-09-11         3.0\n11          1         s1 2020-09-12         3.0\n12          1         s1 2020-09-13         3.0\n13          1         s1 2020-09-14         3.0\n14          1         s1 2020-09-15         3.0\n15          1         s1 2020-09-16         3.0\n16          1         s1 2020-09-17         3.0\n17          1         s1 2020-09-18         3.0\n18          1         s1 2020-09-19         3.0\n19          1         s1 2020-09-20         3.0\n20          1         s1 2020-09-21         3.0\n21          1         s1 2020-09-22         5.0\n22          1         s1 2020-09-23         5.0\n23          1         s1 2020-09-24         5.0\n24          1         s1 2020-09-25         5.0\n25          1         s1 2020-09-26         5.0\n26          1         s1 2020-09-27         5.0\n27          1         s1 2020-09-28         5.0\n28          1         s1 2020-09-29         5.0\n29          1         s1 2020-09-30         5.0\n30          1         s1 2020-10-01         5.0\n31          1         s1 2020-10-02         5.0\n32          1         s1 2020-10-03         5.0\n33          1         s1 2020-10-04         5.0\n34          1         s1 2020-10-05         2.0\n35          1         s1 2020-10-06         2.0\n36          1         s1 2020-10-07         2.0\n37          1         s1 2020-10-08         2.0\n38          1         s1 2020-10-09         4.0",
      "text/html": "<div>\n<style scoped>\n    .dataframe tbody tr th:only-of-type {\n        vertical-align: middle;\n    }\n\n    .dataframe tbody tr th {\n        vertical-align: top;\n    }\n\n    .dataframe thead th {\n        text-align: right;\n    }\n</style>\n<table border=\"1\" class=\"dataframe\">\n  <thead>\n    <tr style=\"text-align: right;\">\n      <th></th>\n      <th>tenant_id</th>\n      <th>segment_id</th>\n      <th>time_stamp</th>\n      <th>total_user</th>\n    </tr>\n  </thead>\n  <tbody>\n    <tr>\n      <th>0</th>\n      <td>1</td>\n      <td>s1</td>\n      <td>2020-09-01</td>\n      <td>5.0</td>\n    </tr>\n    <tr>\n      <th>1</th>\n      <td>1</td>\n      <td>s1</td>\n      <td>2020-09-02</td>\n      <td>5.0</td>\n    </tr>\n    <tr>\n      <th>2</th>\n      <td>1</td>\n      <td>s1</td>\n      <td>2020-09-03</td>\n      <td>5.0</td>\n    </tr>\n    <tr>\n      <th>3</th>\n      <td>1</td>\n      <td>s1</td>\n      <td>2020-09-04</td>\n      <td>5.0</td>\n    </tr>\n    <tr>\n      <th>4</th>\n      <td>1</td>\n      <td>s1</td>\n      <td>2020-09-05</td>\n      <td>5.0</td>\n    </tr>\n    <tr>\n      <th>5</th>\n      <td>1</td>\n      <td>s1</td>\n      <td>2020-09-06</td>\n      <td>5.0</td>\n    </tr>\n    <tr>\n      <th>6</th>\n      <td>1</td>\n      <td>s1</td>\n      <td>2020-09-07</td>\n      <td>5.0</td>\n    </tr>\n    <tr>\n      <th>7</th>\n      <td>1</td>\n      <td>s1</td>\n      <td>2020-09-08</td>\n      <td>3.0</td>\n    </tr>\n    <tr>\n      <th>8</th>\n      <td>1</td>\n      <td>s1</td>\n      <td>2020-09-09</td>\n      <td>3.0</td>\n    </tr>\n    <tr>\n      <th>9</th>\n      <td>1</td>\n      <td>s1</td>\n      <td>2020-09-10</td>\n      <td>3.0</td>\n    </tr>\n    <tr>\n      <th>10</th>\n      <td>1</td>\n      <td>s1</td>\n      <td>2020-09-11</td>\n      <td>3.0</td>\n    </tr>\n    <tr>\n      <th>11</th>\n      <td>1</td>\n      <td>s1</td>\n      <td>2020-09-12</td>\n      <td>3.0</td>\n    </tr>\n    <tr>\n      <th>12</th>\n      <td>1</td>\n      <td>s1</td>\n      <td>2020-09-13</td>\n      <td>3.0</td>\n    </tr>\n    <tr>\n      <th>13</th>\n      <td>1</td>\n      <td>s1</td>\n      <td>2020-09-14</td>\n      <td>3.0</td>\n    </tr>\n    <tr>\n      <th>14</th>\n      <td>1</td>\n      <td>s1</td>\n      <td>2020-09-15</td>\n      <td>3.0</td>\n    </tr>\n    <tr>\n      <th>15</th>\n      <td>1</td>\n      <td>s1</td>\n      <td>2020-09-16</td>\n      <td>3.0</td>\n    </tr>\n    <tr>\n      <th>16</th>\n      <td>1</td>\n      <td>s1</td>\n      <td>2020-09-17</td>\n      <td>3.0</td>\n    </tr>\n    <tr>\n      <th>17</th>\n      <td>1</td>\n      <td>s1</td>\n      <td>2020-09-18</td>\n      <td>3.0</td>\n    </tr>\n    <tr>\n      <th>18</th>\n      <td>1</td>\n      <td>s1</td>\n      <td>2020-09-19</td>\n      <td>3.0</td>\n    </tr>\n    <tr>\n      <th>19</th>\n      <td>1</td>\n      <td>s1</td>\n      <td>2020-09-20</td>\n      <td>3.0</td>\n    </tr>\n    <tr>\n      <th>20</th>\n      <td>1</td>\n      <td>s1</td>\n      <td>2020-09-21</td>\n      <td>3.0</td>\n    </tr>\n    <tr>\n      <th>21</th>\n      <td>1</td>\n      <td>s1</td>\n      <td>2020-09-22</td>\n      <td>5.0</td>\n    </tr>\n    <tr>\n      <th>22</th>\n      <td>1</td>\n      <td>s1</td>\n      <td>2020-09-23</td>\n      <td>5.0</td>\n    </tr>\n    <tr>\n      <th>23</th>\n      <td>1</td>\n      <td>s1</td>\n      <td>2020-09-24</td>\n      <td>5.0</td>\n    </tr>\n    <tr>\n      <th>24</th>\n      <td>1</td>\n      <td>s1</td>\n      <td>2020-09-25</td>\n      <td>5.0</td>\n    </tr>\n    <tr>\n      <th>25</th>\n      <td>1</td>\n      <td>s1</td>\n      <td>2020-09-26</td>\n      <td>5.0</td>\n    </tr>\n    <tr>\n      <th>26</th>\n      <td>1</td>\n      <td>s1</td>\n      <td>2020-09-27</td>\n      <td>5.0</td>\n    </tr>\n    <tr>\n      <th>27</th>\n      <td>1</td>\n      <td>s1</td>\n      <td>2020-09-28</td>\n      <td>5.0</td>\n    </tr>\n    <tr>\n      <th>28</th>\n      <td>1</td>\n      <td>s1</td>\n      <td>2020-09-29</td>\n      <td>5.0</td>\n    </tr>\n    <tr>\n      <th>29</th>\n      <td>1</td>\n      <td>s1</td>\n      <td>2020-09-30</td>\n      <td>5.0</td>\n    </tr>\n    <tr>\n      <th>30</th>\n      <td>1</td>\n      <td>s1</td>\n      <td>2020-10-01</td>\n      <td>5.0</td>\n    </tr>\n    <tr>\n      <th>31</th>\n      <td>1</td>\n      <td>s1</td>\n      <td>2020-10-02</td>\n      <td>5.0</td>\n    </tr>\n    <tr>\n      <th>32</th>\n      <td>1</td>\n      <td>s1</td>\n      <td>2020-10-03</td>\n      <td>5.0</td>\n    </tr>\n    <tr>\n      <th>33</th>\n      <td>1</td>\n      <td>s1</td>\n      <td>2020-10-04</td>\n      <td>5.0</td>\n    </tr>\n    <tr>\n      <th>34</th>\n      <td>1</td>\n      <td>s1</td>\n      <td>2020-10-05</td>\n      <td>2.0</td>\n    </tr>\n    <tr>\n      <th>35</th>\n      <td>1</td>\n      <td>s1</td>\n      <td>2020-10-06</td>\n      <td>2.0</td>\n    </tr>\n    <tr>\n      <th>36</th>\n      <td>1</td>\n      <td>s1</td>\n      <td>2020-10-07</td>\n      <td>2.0</td>\n    </tr>\n    <tr>\n      <th>37</th>\n      <td>1</td>\n      <td>s1</td>\n      <td>2020-10-08</td>\n      <td>2.0</td>\n    </tr>\n    <tr>\n      <th>38</th>\n      <td>1</td>\n      <td>s1</td>\n      <td>2020-10-09</td>\n      <td>4.0</td>\n    </tr>\n  </tbody>\n</table>\n</div>"
     },
     "execution_count": 10,
     "metadata": {},
     "output_type": "execute_result"
    }
   ],
   "source": [
    "\n",
    "drop_duplicated_df = df.drop_duplicates(['time_stamp', 'tenant_id', 'segment_id'], 'last')\n",
    "\n",
    "filled_df = drop_duplicated_df.groupby(['tenant_id', 'segment_id'])\\\n",
    "    .apply(lambda x: x.set_index('time_stamp').asfreq('D', method='ffill'))\\\n",
    "    .total_user.reset_index()\n",
    "filled_df"
   ],
   "metadata": {
    "collapsed": false,
    "pycharm": {
     "name": "#%%\n"
    }
   }
  },
  {
   "cell_type": "code",
   "execution_count": 133,
   "outputs": [],
   "source": [
    "\n",
    "\n",
    "from datetime import datetime, date, timedelta, datetime, time"
   ],
   "metadata": {
    "collapsed": false,
    "pycharm": {
     "name": "#%%\n"
    }
   }
  },
  {
   "cell_type": "code",
   "execution_count": 14,
   "outputs": [
    {
     "data": {
      "text/plain": "datetime.datetime(2020, 9, 17, 13, 18, 46, 512118)"
     },
     "execution_count": 14,
     "metadata": {},
     "output_type": "execute_result"
    }
   ],
   "source": [
    "datetime.now()"
   ],
   "metadata": {
    "collapsed": false,
    "pycharm": {
     "name": "#%%\n"
    }
   }
  },
  {
   "cell_type": "code",
   "execution_count": 19,
   "outputs": [
    {
     "data": {
      "text/plain": "datetime.datetime(2020, 9, 17, 13, 19, 22, 351861)"
     },
     "execution_count": 19,
     "metadata": {},
     "output_type": "execute_result"
    }
   ],
   "source": [
    "datetime.today()"
   ],
   "metadata": {
    "collapsed": false,
    "pycharm": {
     "name": "#%%\n"
    }
   }
  },
  {
   "cell_type": "code",
   "execution_count": 21,
   "outputs": [
    {
     "data": {
      "text/plain": "datetime.date(2020, 9, 17)"
     },
     "execution_count": 21,
     "metadata": {},
     "output_type": "execute_result"
    }
   ],
   "source": [
    "import pandas as pd\n",
    "#"
   ],
   "metadata": {
    "collapsed": false,
    "pycharm": {
     "name": "#%%\n"
    }
   }
  },
  {
   "cell_type": "code",
   "execution_count": 185,
   "outputs": [
    {
     "data": {
      "text/plain": "(datetime.datetime(2020, 9, 17, 0, 0),\n datetime.datetime(2020, 9, 17, 17, 17, 48, 934828))"
     },
     "execution_count": 185,
     "metadata": {},
     "output_type": "execute_result"
    }
   ],
   "source": [
    "start = datetime.combine(date.today(), time())\n",
    "end = datetime.now()\n",
    "start, end"
   ],
   "metadata": {
    "collapsed": false,
    "pycharm": {
     "name": "#%%\n"
    }
   }
  },
  {
   "cell_type": "code",
   "execution_count": 186,
   "outputs": [
    {
     "data": {
      "text/plain": "DatetimeIndex(['2020-09-17 01:00:00', '2020-09-17 02:00:00',\n               '2020-09-17 03:00:00', '2020-09-17 04:00:00',\n               '2020-09-17 05:00:00', '2020-09-17 06:00:00',\n               '2020-09-17 07:00:00', '2020-09-17 08:00:00',\n               '2020-09-17 09:00:00', '2020-09-17 10:00:00',\n               '2020-09-17 11:00:00', '2020-09-17 12:00:00',\n               '2020-09-17 13:00:00', '2020-09-17 14:00:00',\n               '2020-09-17 15:00:00', '2020-09-17 16:00:00',\n               '2020-09-17 17:00:00'],\n              dtype='datetime64[ns]', freq='H')"
     },
     "execution_count": 186,
     "metadata": {},
     "output_type": "execute_result"
    }
   ],
   "source": [
    "index = pd.date_range(start, end, freq='1H', closed=\"right\")\n",
    "index"
   ],
   "metadata": {
    "collapsed": false,
    "pycharm": {
     "name": "#%%\n"
    }
   }
  },
  {
   "cell_type": "code",
   "execution_count": 179,
   "outputs": [
    {
     "data": {
      "text/plain": "            data_point  value\n0  2020-09-17 01:00:00      0\n1  2020-09-17 02:00:00      0\n2  2020-09-17 03:00:00      0\n3  2020-09-17 04:00:00      0\n4  2020-09-17 05:00:00      0\n5  2020-09-17 06:00:00      0\n6  2020-09-17 07:00:00      0\n7  2020-09-17 08:00:00      0\n8  2020-09-17 09:00:00      0\n9  2020-09-17 10:00:00      0\n10 2020-09-17 11:00:00      0\n11 2020-09-17 12:00:00      0\n12 2020-09-17 13:00:00      0\n13 2020-09-17 14:00:00      0\n14 2020-09-17 15:00:00      0\n15 2020-09-17 16:00:00      0\n16 2020-09-17 17:00:00      0",
      "text/html": "<div>\n<style scoped>\n    .dataframe tbody tr th:only-of-type {\n        vertical-align: middle;\n    }\n\n    .dataframe tbody tr th {\n        vertical-align: top;\n    }\n\n    .dataframe thead th {\n        text-align: right;\n    }\n</style>\n<table border=\"1\" class=\"dataframe\">\n  <thead>\n    <tr style=\"text-align: right;\">\n      <th></th>\n      <th>data_point</th>\n      <th>value</th>\n    </tr>\n  </thead>\n  <tbody>\n    <tr>\n      <th>0</th>\n      <td>2020-09-17 01:00:00</td>\n      <td>0</td>\n    </tr>\n    <tr>\n      <th>1</th>\n      <td>2020-09-17 02:00:00</td>\n      <td>0</td>\n    </tr>\n    <tr>\n      <th>2</th>\n      <td>2020-09-17 03:00:00</td>\n      <td>0</td>\n    </tr>\n    <tr>\n      <th>3</th>\n      <td>2020-09-17 04:00:00</td>\n      <td>0</td>\n    </tr>\n    <tr>\n      <th>4</th>\n      <td>2020-09-17 05:00:00</td>\n      <td>0</td>\n    </tr>\n    <tr>\n      <th>5</th>\n      <td>2020-09-17 06:00:00</td>\n      <td>0</td>\n    </tr>\n    <tr>\n      <th>6</th>\n      <td>2020-09-17 07:00:00</td>\n      <td>0</td>\n    </tr>\n    <tr>\n      <th>7</th>\n      <td>2020-09-17 08:00:00</td>\n      <td>0</td>\n    </tr>\n    <tr>\n      <th>8</th>\n      <td>2020-09-17 09:00:00</td>\n      <td>0</td>\n    </tr>\n    <tr>\n      <th>9</th>\n      <td>2020-09-17 10:00:00</td>\n      <td>0</td>\n    </tr>\n    <tr>\n      <th>10</th>\n      <td>2020-09-17 11:00:00</td>\n      <td>0</td>\n    </tr>\n    <tr>\n      <th>11</th>\n      <td>2020-09-17 12:00:00</td>\n      <td>0</td>\n    </tr>\n    <tr>\n      <th>12</th>\n      <td>2020-09-17 13:00:00</td>\n      <td>0</td>\n    </tr>\n    <tr>\n      <th>13</th>\n      <td>2020-09-17 14:00:00</td>\n      <td>0</td>\n    </tr>\n    <tr>\n      <th>14</th>\n      <td>2020-09-17 15:00:00</td>\n      <td>0</td>\n    </tr>\n    <tr>\n      <th>15</th>\n      <td>2020-09-17 16:00:00</td>\n      <td>0</td>\n    </tr>\n    <tr>\n      <th>16</th>\n      <td>2020-09-17 17:00:00</td>\n      <td>0</td>\n    </tr>\n  </tbody>\n</table>\n</div>"
     },
     "execution_count": 179,
     "metadata": {},
     "output_type": "execute_result"
    }
   ],
   "source": [
    "df = pd.DataFrame({'data_point': index, 'value': 0})\n",
    "df"
   ],
   "metadata": {
    "collapsed": false,
    "pycharm": {
     "name": "#%%\n"
    }
   }
  },
  {
   "cell_type": "code",
   "execution_count": 60,
   "outputs": [
    {
     "data": {
      "text/plain": "            value\n2020-09-10      0\n2020-09-11      0\n2020-09-12      0\n2020-09-13      0\n2020-09-14      0\n2020-09-15      0\n2020-09-16      0\n2020-09-17      0",
      "text/html": "<div>\n<style scoped>\n    .dataframe tbody tr th:only-of-type {\n        vertical-align: middle;\n    }\n\n    .dataframe tbody tr th {\n        vertical-align: top;\n    }\n\n    .dataframe thead th {\n        text-align: right;\n    }\n</style>\n<table border=\"1\" class=\"dataframe\">\n  <thead>\n    <tr style=\"text-align: right;\">\n      <th></th>\n      <th>value</th>\n    </tr>\n  </thead>\n  <tbody>\n    <tr>\n      <th>2020-09-10</th>\n      <td>0</td>\n    </tr>\n    <tr>\n      <th>2020-09-11</th>\n      <td>0</td>\n    </tr>\n    <tr>\n      <th>2020-09-12</th>\n      <td>0</td>\n    </tr>\n    <tr>\n      <th>2020-09-13</th>\n      <td>0</td>\n    </tr>\n    <tr>\n      <th>2020-09-14</th>\n      <td>0</td>\n    </tr>\n    <tr>\n      <th>2020-09-15</th>\n      <td>0</td>\n    </tr>\n    <tr>\n      <th>2020-09-16</th>\n      <td>0</td>\n    </tr>\n    <tr>\n      <th>2020-09-17</th>\n      <td>0</td>\n    </tr>\n  </tbody>\n</table>\n</div>"
     },
     "execution_count": 60,
     "metadata": {},
     "output_type": "execute_result"
    }
   ],
   "source": [
    "#df['value'] = 0\n",
    "\n",
    "#df"
   ],
   "metadata": {
    "collapsed": false,
    "pycharm": {
     "name": "#%%\n"
    }
   }
  },
  {
   "cell_type": "code",
   "execution_count": 139,
   "outputs": [
    {
     "data": {
      "text/plain": "[{'data_point': datetime.datetime(2020, 9, 17, 4, 0),\n  'tenant_id': 1,\n  'source_id': 'Google Ads',\n  'total_user': 2},\n {'data_point': datetime.datetime(2020, 9, 17, 5, 0),\n  'tenant_id': 1,\n  'source_id': 'Google Ads',\n  'total_user': 4}]"
     },
     "execution_count": 139,
     "metadata": {},
     "output_type": "execute_result"
    }
   ],
   "source": [
    "data = [{'data_point': datetime(2020, 9, 17, 4, 0), 'tenant_id': 1, 'source_id': 'Google Ads', 'total_user': 2},\n",
    "     {'data_point': datetime(2020, 9, 17, 5, 0), 'tenant_id': 1, 'source_id': 'Google Ads', 'total_user': 4}]\n",
    "data"
   ],
   "metadata": {
    "collapsed": false,
    "pycharm": {
     "name": "#%%\n"
    }
   }
  },
  {
   "cell_type": "code",
   "execution_count": 98,
   "outputs": [
    {
     "data": {
      "text/plain": "[{'time_stamp': Timestamp('2020-09-10 00:00:00'), 'value': 0},\n {'time_stamp': Timestamp('2020-09-11 00:00:00'), 'value': 0},\n {'time_stamp': Timestamp('2020-09-12 00:00:00'), 'value': 0},\n {'time_stamp': Timestamp('2020-09-13 00:00:00'), 'value': 0},\n {'time_stamp': Timestamp('2020-09-14 00:00:00'), 'value': 0},\n {'time_stamp': Timestamp('2020-09-15 00:00:00'), 'value': 0},\n {'time_stamp': Timestamp('2020-09-16 00:00:00'), 'value': 0},\n {'time_stamp': Timestamp('2020-09-17 00:00:00'), 'value': 0}]"
     },
     "execution_count": 98,
     "metadata": {},
     "output_type": "execute_result"
    }
   ],
   "source": [
    "d = df.to_dict('records')\n",
    "d"
   ],
   "metadata": {
    "collapsed": false,
    "pycharm": {
     "name": "#%%\n"
    }
   }
  },
  {
   "cell_type": "code",
   "execution_count": 116,
   "outputs": [
    {
     "data": {
      "text/plain": "  time_stamp  value\n0 2020-09-10      0\n1 2020-09-11      0\n2 2020-09-12      0\n3 2020-09-13      0\n4 2020-09-14      0\n5 2020-09-15      0\n6 2020-09-16      0\n7 2020-09-17      0",
      "text/html": "<div>\n<style scoped>\n    .dataframe tbody tr th:only-of-type {\n        vertical-align: middle;\n    }\n\n    .dataframe tbody tr th {\n        vertical-align: top;\n    }\n\n    .dataframe thead th {\n        text-align: right;\n    }\n</style>\n<table border=\"1\" class=\"dataframe\">\n  <thead>\n    <tr style=\"text-align: right;\">\n      <th></th>\n      <th>time_stamp</th>\n      <th>value</th>\n    </tr>\n  </thead>\n  <tbody>\n    <tr>\n      <th>0</th>\n      <td>2020-09-10</td>\n      <td>0</td>\n    </tr>\n    <tr>\n      <th>1</th>\n      <td>2020-09-11</td>\n      <td>0</td>\n    </tr>\n    <tr>\n      <th>2</th>\n      <td>2020-09-12</td>\n      <td>0</td>\n    </tr>\n    <tr>\n      <th>3</th>\n      <td>2020-09-13</td>\n      <td>0</td>\n    </tr>\n    <tr>\n      <th>4</th>\n      <td>2020-09-14</td>\n      <td>0</td>\n    </tr>\n    <tr>\n      <th>5</th>\n      <td>2020-09-15</td>\n      <td>0</td>\n    </tr>\n    <tr>\n      <th>6</th>\n      <td>2020-09-16</td>\n      <td>0</td>\n    </tr>\n    <tr>\n      <th>7</th>\n      <td>2020-09-17</td>\n      <td>0</td>\n    </tr>\n  </tbody>\n</table>\n</div>"
     },
     "execution_count": 116,
     "metadata": {},
     "output_type": "execute_result"
    }
   ],
   "source": [
    "df"
   ],
   "metadata": {
    "collapsed": false,
    "pycharm": {
     "name": "#%%\n"
    }
   }
  },
  {
   "cell_type": "code",
   "execution_count": 84,
   "outputs": [
    {
     "name": "stdout",
     "output_type": "stream",
     "text": [
      "2020-09-10 00:00:00\n",
      "<class 'pandas._libs.tslibs.timestamps.Timestamp'>\n",
      "2020-09-11 00:00:00\n",
      "<class 'pandas._libs.tslibs.timestamps.Timestamp'>\n",
      "2020-09-12 00:00:00\n",
      "<class 'pandas._libs.tslibs.timestamps.Timestamp'>\n",
      "2020-09-13 00:00:00\n",
      "<class 'pandas._libs.tslibs.timestamps.Timestamp'>\n",
      "2020-09-14 00:00:00\n",
      "<class 'pandas._libs.tslibs.timestamps.Timestamp'>\n",
      "2020-09-15 00:00:00\n",
      "<class 'pandas._libs.tslibs.timestamps.Timestamp'>\n",
      "2020-09-16 00:00:00\n",
      "<class 'pandas._libs.tslibs.timestamps.Timestamp'>\n",
      "2020-09-17 00:00:00\n",
      "<class 'pandas._libs.tslibs.timestamps.Timestamp'>\n"
     ]
    }
   ],
   "source": [
    "# for _, row in df.iterrows():\n",
    "#     print(row[\"time_stamp\"])\n",
    "#     print(type(row[\"time_stamp\"]))"
   ],
   "metadata": {
    "collapsed": false,
    "pycharm": {
     "name": "#%%\n"
    }
   }
  },
  {
   "cell_type": "code",
   "execution_count": 140,
   "outputs": [
    {
     "data": {
      "text/plain": "           data_point  tenant_id   source_id  total_user\n0 2020-09-17 04:00:00          1  Google Ads           2\n1 2020-09-17 05:00:00          1  Google Ads           4",
      "text/html": "<div>\n<style scoped>\n    .dataframe tbody tr th:only-of-type {\n        vertical-align: middle;\n    }\n\n    .dataframe tbody tr th {\n        vertical-align: top;\n    }\n\n    .dataframe thead th {\n        text-align: right;\n    }\n</style>\n<table border=\"1\" class=\"dataframe\">\n  <thead>\n    <tr style=\"text-align: right;\">\n      <th></th>\n      <th>data_point</th>\n      <th>tenant_id</th>\n      <th>source_id</th>\n      <th>total_user</th>\n    </tr>\n  </thead>\n  <tbody>\n    <tr>\n      <th>0</th>\n      <td>2020-09-17 04:00:00</td>\n      <td>1</td>\n      <td>Google Ads</td>\n      <td>2</td>\n    </tr>\n    <tr>\n      <th>1</th>\n      <td>2020-09-17 05:00:00</td>\n      <td>1</td>\n      <td>Google Ads</td>\n      <td>4</td>\n    </tr>\n  </tbody>\n</table>\n</div>"
     },
     "execution_count": 140,
     "metadata": {},
     "output_type": "execute_result"
    }
   ],
   "source": [
    "data_df = pd.DataFrame.from_dict(data)\n",
    "data_df"
   ],
   "metadata": {
    "collapsed": false,
    "pycharm": {
     "name": "#%%\n"
    }
   }
  },
  {
   "cell_type": "code",
   "execution_count": 93,
   "outputs": [
    {
     "name": "stdout",
     "output_type": "stream",
     "text": [
      "<class 'pandas.core.frame.DataFrame'>\n",
      "RangeIndex: 8 entries, 0 to 7\n",
      "Data columns (total 2 columns):\n",
      " #   Column      Non-Null Count  Dtype         \n",
      "---  ------      --------------  -----         \n",
      " 0   time_stamp  8 non-null      datetime64[ns]\n",
      " 1   value       8 non-null      int64         \n",
      "dtypes: datetime64[ns](1), int64(1)\n",
      "memory usage: 256.0 bytes\n"
     ]
    }
   ],
   "source": [],
   "metadata": {
    "collapsed": false,
    "pycharm": {
     "name": "#%%\n"
    }
   }
  },
  {
   "cell_type": "code",
   "execution_count": 142,
   "outputs": [
    {
     "data": {
      "text/plain": "           data_point  total_user\n0 2020-09-17 04:00:00           2\n1 2020-09-17 05:00:00           4",
      "text/html": "<div>\n<style scoped>\n    .dataframe tbody tr th:only-of-type {\n        vertical-align: middle;\n    }\n\n    .dataframe tbody tr th {\n        vertical-align: top;\n    }\n\n    .dataframe thead th {\n        text-align: right;\n    }\n</style>\n<table border=\"1\" class=\"dataframe\">\n  <thead>\n    <tr style=\"text-align: right;\">\n      <th></th>\n      <th>data_point</th>\n      <th>total_user</th>\n    </tr>\n  </thead>\n  <tbody>\n    <tr>\n      <th>0</th>\n      <td>2020-09-17 04:00:00</td>\n      <td>2</td>\n    </tr>\n    <tr>\n      <th>1</th>\n      <td>2020-09-17 05:00:00</td>\n      <td>4</td>\n    </tr>\n  </tbody>\n</table>\n</div>"
     },
     "execution_count": 142,
     "metadata": {},
     "output_type": "execute_result"
    }
   ],
   "source": [
    "data_df.drop(['tenant_id','source_id'], axis=1,inplace=True)\n",
    "data_df"
   ],
   "metadata": {
    "collapsed": false,
    "pycharm": {
     "name": "#%%\n"
    }
   }
  },
  {
   "cell_type": "code",
   "execution_count": 148,
   "outputs": [
    {
     "data": {
      "text/plain": "           data_point  value\n0 2020-09-17 04:00:00      2\n1 2020-09-17 05:00:00      4",
      "text/html": "<div>\n<style scoped>\n    .dataframe tbody tr th:only-of-type {\n        vertical-align: middle;\n    }\n\n    .dataframe tbody tr th {\n        vertical-align: top;\n    }\n\n    .dataframe thead th {\n        text-align: right;\n    }\n</style>\n<table border=\"1\" class=\"dataframe\">\n  <thead>\n    <tr style=\"text-align: right;\">\n      <th></th>\n      <th>data_point</th>\n      <th>value</th>\n    </tr>\n  </thead>\n  <tbody>\n    <tr>\n      <th>0</th>\n      <td>2020-09-17 04:00:00</td>\n      <td>2</td>\n    </tr>\n    <tr>\n      <th>1</th>\n      <td>2020-09-17 05:00:00</td>\n      <td>4</td>\n    </tr>\n  </tbody>\n</table>\n</div>"
     },
     "execution_count": 148,
     "metadata": {},
     "output_type": "execute_result"
    }
   ],
   "source": [
    "data_df.columns = ['data_point', 'value']\n",
    "data_df"
   ],
   "metadata": {
    "collapsed": false,
    "pycharm": {
     "name": "#%%\n"
    }
   }
  },
  {
   "cell_type": "code",
   "execution_count": 166,
   "outputs": [
    {
     "data": {
      "text/plain": "            data_point  value\n0  2020-09-17 04:00:00    2.0\n1  2020-09-17 05:00:00    4.0\n2  2020-09-16 03:00:00    0.0\n3  2020-09-16 04:00:00    0.0\n4  2020-09-16 05:00:00    0.0\n5  2020-09-16 06:00:00    0.0\n6  2020-09-16 07:00:00    0.0\n7  2020-09-16 08:00:00    0.0\n8  2020-09-16 09:00:00    0.0\n9  2020-09-16 10:00:00    0.0\n10 2020-09-16 11:00:00    0.0\n11 2020-09-16 12:00:00    0.0\n12 2020-09-16 13:00:00    0.0\n13 2020-09-16 14:00:00    0.0\n14 2020-09-16 15:00:00    0.0\n15 2020-09-16 16:00:00    0.0\n16 2020-09-16 17:00:00    0.0\n17 2020-09-16 18:00:00    0.0\n18 2020-09-16 19:00:00    0.0\n19 2020-09-16 20:00:00    0.0\n20 2020-09-16 21:00:00    0.0\n21 2020-09-16 22:00:00    0.0\n22 2020-09-16 23:00:00    0.0\n23 2020-09-17 00:00:00    0.0",
      "text/html": "<div>\n<style scoped>\n    .dataframe tbody tr th:only-of-type {\n        vertical-align: middle;\n    }\n\n    .dataframe tbody tr th {\n        vertical-align: top;\n    }\n\n    .dataframe thead th {\n        text-align: right;\n    }\n</style>\n<table border=\"1\" class=\"dataframe\">\n  <thead>\n    <tr style=\"text-align: right;\">\n      <th></th>\n      <th>data_point</th>\n      <th>value</th>\n    </tr>\n  </thead>\n  <tbody>\n    <tr>\n      <th>0</th>\n      <td>2020-09-17 04:00:00</td>\n      <td>2.0</td>\n    </tr>\n    <tr>\n      <th>1</th>\n      <td>2020-09-17 05:00:00</td>\n      <td>4.0</td>\n    </tr>\n    <tr>\n      <th>2</th>\n      <td>2020-09-16 03:00:00</td>\n      <td>0.0</td>\n    </tr>\n    <tr>\n      <th>3</th>\n      <td>2020-09-16 04:00:00</td>\n      <td>0.0</td>\n    </tr>\n    <tr>\n      <th>4</th>\n      <td>2020-09-16 05:00:00</td>\n      <td>0.0</td>\n    </tr>\n    <tr>\n      <th>5</th>\n      <td>2020-09-16 06:00:00</td>\n      <td>0.0</td>\n    </tr>\n    <tr>\n      <th>6</th>\n      <td>2020-09-16 07:00:00</td>\n      <td>0.0</td>\n    </tr>\n    <tr>\n      <th>7</th>\n      <td>2020-09-16 08:00:00</td>\n      <td>0.0</td>\n    </tr>\n    <tr>\n      <th>8</th>\n      <td>2020-09-16 09:00:00</td>\n      <td>0.0</td>\n    </tr>\n    <tr>\n      <th>9</th>\n      <td>2020-09-16 10:00:00</td>\n      <td>0.0</td>\n    </tr>\n    <tr>\n      <th>10</th>\n      <td>2020-09-16 11:00:00</td>\n      <td>0.0</td>\n    </tr>\n    <tr>\n      <th>11</th>\n      <td>2020-09-16 12:00:00</td>\n      <td>0.0</td>\n    </tr>\n    <tr>\n      <th>12</th>\n      <td>2020-09-16 13:00:00</td>\n      <td>0.0</td>\n    </tr>\n    <tr>\n      <th>13</th>\n      <td>2020-09-16 14:00:00</td>\n      <td>0.0</td>\n    </tr>\n    <tr>\n      <th>14</th>\n      <td>2020-09-16 15:00:00</td>\n      <td>0.0</td>\n    </tr>\n    <tr>\n      <th>15</th>\n      <td>2020-09-16 16:00:00</td>\n      <td>0.0</td>\n    </tr>\n    <tr>\n      <th>16</th>\n      <td>2020-09-16 17:00:00</td>\n      <td>0.0</td>\n    </tr>\n    <tr>\n      <th>17</th>\n      <td>2020-09-16 18:00:00</td>\n      <td>0.0</td>\n    </tr>\n    <tr>\n      <th>18</th>\n      <td>2020-09-16 19:00:00</td>\n      <td>0.0</td>\n    </tr>\n    <tr>\n      <th>19</th>\n      <td>2020-09-16 20:00:00</td>\n      <td>0.0</td>\n    </tr>\n    <tr>\n      <th>20</th>\n      <td>2020-09-16 21:00:00</td>\n      <td>0.0</td>\n    </tr>\n    <tr>\n      <th>21</th>\n      <td>2020-09-16 22:00:00</td>\n      <td>0.0</td>\n    </tr>\n    <tr>\n      <th>22</th>\n      <td>2020-09-16 23:00:00</td>\n      <td>0.0</td>\n    </tr>\n    <tr>\n      <th>23</th>\n      <td>2020-09-17 00:00:00</td>\n      <td>0.0</td>\n    </tr>\n  </tbody>\n</table>\n</div>"
     },
     "execution_count": 166,
     "metadata": {},
     "output_type": "execute_result"
    }
   ],
   "source": [
    "df.update(data_df)\n",
    "df"
   ],
   "metadata": {
    "collapsed": false,
    "pycharm": {
     "name": "#%%\n"
    }
   }
  },
  {
   "cell_type": "code",
   "execution_count": 169,
   "outputs": [
    {
     "name": "stderr",
     "output_type": "stream",
     "text": [
      "/home/chile/.local/lib/python3.6/site-packages/pandas/core/frame.py:1490: FutureWarning: Using short name for 'orient' is deprecated. Only the options: ('dict', list, 'series', 'split', 'records', 'index') will be used in a future version. Use one of the above to silence this warning.\n",
      "  FutureWarning,\n"
     ]
    },
    {
     "data": {
      "text/plain": "[{'data_point': Timestamp('2020-09-17 04:00:00'), 'value': 2.0},\n {'data_point': Timestamp('2020-09-17 05:00:00'), 'value': 4.0},\n {'data_point': Timestamp('2020-09-16 03:00:00'), 'value': 0.0},\n {'data_point': Timestamp('2020-09-16 04:00:00'), 'value': 0.0},\n {'data_point': Timestamp('2020-09-16 05:00:00'), 'value': 0.0},\n {'data_point': Timestamp('2020-09-16 06:00:00'), 'value': 0.0},\n {'data_point': Timestamp('2020-09-16 07:00:00'), 'value': 0.0},\n {'data_point': Timestamp('2020-09-16 08:00:00'), 'value': 0.0},\n {'data_point': Timestamp('2020-09-16 09:00:00'), 'value': 0.0},\n {'data_point': Timestamp('2020-09-16 10:00:00'), 'value': 0.0},\n {'data_point': Timestamp('2020-09-16 11:00:00'), 'value': 0.0},\n {'data_point': Timestamp('2020-09-16 12:00:00'), 'value': 0.0},\n {'data_point': Timestamp('2020-09-16 13:00:00'), 'value': 0.0},\n {'data_point': Timestamp('2020-09-16 14:00:00'), 'value': 0.0},\n {'data_point': Timestamp('2020-09-16 15:00:00'), 'value': 0.0},\n {'data_point': Timestamp('2020-09-16 16:00:00'), 'value': 0.0},\n {'data_point': Timestamp('2020-09-16 17:00:00'), 'value': 0.0},\n {'data_point': Timestamp('2020-09-16 18:00:00'), 'value': 0.0},\n {'data_point': Timestamp('2020-09-16 19:00:00'), 'value': 0.0},\n {'data_point': Timestamp('2020-09-16 20:00:00'), 'value': 0.0},\n {'data_point': Timestamp('2020-09-16 21:00:00'), 'value': 0.0},\n {'data_point': Timestamp('2020-09-16 22:00:00'), 'value': 0.0},\n {'data_point': Timestamp('2020-09-16 23:00:00'), 'value': 0.0},\n {'data_point': Timestamp('2020-09-17 00:00:00'), 'value': 0.0}]"
     },
     "execution_count": 169,
     "metadata": {},
     "output_type": "execute_result"
    }
   ],
   "source": [
    "df.to_dict('record')"
   ],
   "metadata": {
    "collapsed": false,
    "pycharm": {
     "name": "#%%\n"
    }
   }
  },
  {
   "cell_type": "code",
   "execution_count": 150,
   "outputs": [
    {
     "data": {
      "text/plain": "           data_point  value\n0 2020-09-17 04:00:00      2\n1 2020-09-17 05:00:00      4",
      "text/html": "<div>\n<style scoped>\n    .dataframe tbody tr th:only-of-type {\n        vertical-align: middle;\n    }\n\n    .dataframe tbody tr th {\n        vertical-align: top;\n    }\n\n    .dataframe thead th {\n        text-align: right;\n    }\n</style>\n<table border=\"1\" class=\"dataframe\">\n  <thead>\n    <tr style=\"text-align: right;\">\n      <th></th>\n      <th>data_point</th>\n      <th>value</th>\n    </tr>\n  </thead>\n  <tbody>\n    <tr>\n      <th>0</th>\n      <td>2020-09-17 04:00:00</td>\n      <td>2</td>\n    </tr>\n    <tr>\n      <th>1</th>\n      <td>2020-09-17 05:00:00</td>\n      <td>4</td>\n    </tr>\n  </tbody>\n</table>\n</div>"
     },
     "execution_count": 150,
     "metadata": {},
     "output_type": "execute_result"
    }
   ],
   "source": [],
   "metadata": {
    "collapsed": false,
    "pycharm": {
     "name": "#%%\n"
    }
   }
  },
  {
   "cell_type": "code",
   "execution_count": 181,
   "outputs": [
    {
     "data": {
      "text/plain": "datetime.datetime(2020, 9, 17, 0, 0)"
     },
     "execution_count": 181,
     "metadata": {},
     "output_type": "execute_result"
    }
   ],
   "source": [
    "start = datetime.combine(date.today(), time())\n",
    "start"
   ],
   "metadata": {
    "collapsed": false,
    "pycharm": {
     "name": "#%%\n"
    }
   }
  },
  {
   "cell_type": "code",
   "execution_count": 183,
   "outputs": [
    {
     "data": {
      "text/plain": "(datetime.datetime(2020, 9, 17, 0, 0),\n datetime.datetime(2020, 9, 17, 17, 16, 53, 411393))"
     },
     "execution_count": 183,
     "metadata": {},
     "output_type": "execute_result"
    }
   ],
   "source": [
    "#datetime.today()\n",
    "start = datetime.combine(date.today(), time())\n",
    "end = datetime.now()\n",
    "start, end"
   ],
   "metadata": {
    "collapsed": false,
    "pycharm": {
     "name": "#%%\n"
    }
   }
  }
 ],
 "metadata": {
  "kernelspec": {
   "display_name": "Python 3",
   "language": "python",
   "name": "python3"
  },
  "language_info": {
   "codemirror_mode": {
    "name": "ipython",
    "version": 2
   },
   "file_extension": ".py",
   "mimetype": "text/x-python",
   "name": "python",
   "nbconvert_exporter": "python",
   "pygments_lexer": "ipython2",
   "version": "2.7.6"
  }
 },
 "nbformat": 4,
 "nbformat_minor": 0
}