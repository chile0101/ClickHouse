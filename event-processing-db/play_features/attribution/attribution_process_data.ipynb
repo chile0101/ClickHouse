{
 "cells": [
  {
   "cell_type": "code",
   "execution_count": 18,
   "metadata": {
    "collapsed": true
   },
   "outputs": [],
   "source": [
    "import pandas as pd\n",
    "from json import load\n",
    "\n",
    "\n",
    "def lists_to_dict(keys, values):\n",
    "    if keys is None or values is None:\n",
    "        return {}\n",
    "    return dict(zip(keys, values))\n",
    "\n",
    "def extract_value_by_key_parallel_array(key, keys_array, value_array):\n",
    "    _dict = lists_to_dict(keys_array, value_array)\n",
    "    return _dict.get(key, None)\n"
   ]
  },
  {
   "cell_type": "code",
   "execution_count": 52,
   "outputs": [
    {
     "data": {
      "text/plain": "   tenant_id config_pipeline_id config_data_id       execution_time  \\\n0          1                 cf            cd1  2020-12-16 11:29:52   \n1          1                 cf            cd1  2020-12-16 11:29:52   \n2          1                 cf            cd1  2020-12-16 11:31:34   \n3          1                 cf            cd1  2020-12-16 11:31:34   \n\n            created_at  window  whole_journey  include_direct model_name  \\\n0  2020-12-16 11:29:52       7              1               1     linear   \n1  2020-12-16 11:29:52       7              1               1     linear   \n2  2020-12-16 11:31:34       7              1               1     linear   \n3  2020-12-16 11:31:34       7              1               1     linear   \n\n                                      dimension.keys  \\\n0  ['dimension_filter','dimension_filter_value','...   \n1  ['dimension_filter','dimension_filter_value','...   \n2  ['dimension_filter','dimension_filter_value','...   \n3  ['dimension_filter','dimension_filter_value','...   \n\n                               dimension.names   value_key  value_value  \n0  ['campaign_grouping','cdp','facebook','c1']     revenue          120  \n1  ['campaign_grouping','cdp','facebook','c2']     revenue          120  \n2  ['campaign_grouping','cdp','facebook','c1']  conversion          120  \n3  ['campaign_grouping','cdp','facebook','c2']     revenue          120  ",
      "text/html": "<div>\n<style scoped>\n    .dataframe tbody tr th:only-of-type {\n        vertical-align: middle;\n    }\n\n    .dataframe tbody tr th {\n        vertical-align: top;\n    }\n\n    .dataframe thead th {\n        text-align: right;\n    }\n</style>\n<table border=\"1\" class=\"dataframe\">\n  <thead>\n    <tr style=\"text-align: right;\">\n      <th></th>\n      <th>tenant_id</th>\n      <th>config_pipeline_id</th>\n      <th>config_data_id</th>\n      <th>execution_time</th>\n      <th>created_at</th>\n      <th>window</th>\n      <th>whole_journey</th>\n      <th>include_direct</th>\n      <th>model_name</th>\n      <th>dimension.keys</th>\n      <th>dimension.names</th>\n      <th>value_key</th>\n      <th>value_value</th>\n    </tr>\n  </thead>\n  <tbody>\n    <tr>\n      <th>0</th>\n      <td>1</td>\n      <td>cf</td>\n      <td>cd1</td>\n      <td>2020-12-16 11:29:52</td>\n      <td>2020-12-16 11:29:52</td>\n      <td>7</td>\n      <td>1</td>\n      <td>1</td>\n      <td>linear</td>\n      <td>['dimension_filter','dimension_filter_value','...</td>\n      <td>['campaign_grouping','cdp','facebook','c1']</td>\n      <td>revenue</td>\n      <td>120</td>\n    </tr>\n    <tr>\n      <th>1</th>\n      <td>1</td>\n      <td>cf</td>\n      <td>cd1</td>\n      <td>2020-12-16 11:29:52</td>\n      <td>2020-12-16 11:29:52</td>\n      <td>7</td>\n      <td>1</td>\n      <td>1</td>\n      <td>linear</td>\n      <td>['dimension_filter','dimension_filter_value','...</td>\n      <td>['campaign_grouping','cdp','facebook','c2']</td>\n      <td>revenue</td>\n      <td>120</td>\n    </tr>\n    <tr>\n      <th>2</th>\n      <td>1</td>\n      <td>cf</td>\n      <td>cd1</td>\n      <td>2020-12-16 11:31:34</td>\n      <td>2020-12-16 11:31:34</td>\n      <td>7</td>\n      <td>1</td>\n      <td>1</td>\n      <td>linear</td>\n      <td>['dimension_filter','dimension_filter_value','...</td>\n      <td>['campaign_grouping','cdp','facebook','c1']</td>\n      <td>conversion</td>\n      <td>120</td>\n    </tr>\n    <tr>\n      <th>3</th>\n      <td>1</td>\n      <td>cf</td>\n      <td>cd1</td>\n      <td>2020-12-16 11:31:34</td>\n      <td>2020-12-16 11:31:34</td>\n      <td>7</td>\n      <td>1</td>\n      <td>1</td>\n      <td>linear</td>\n      <td>['dimension_filter','dimension_filter_value','...</td>\n      <td>['campaign_grouping','cdp','facebook','c2']</td>\n      <td>revenue</td>\n      <td>120</td>\n    </tr>\n  </tbody>\n</table>\n</div>"
     },
     "execution_count": 52,
     "metadata": {},
     "output_type": "execute_result"
    }
   ],
   "source": [
    "df = pd.read_csv('data.csv')\n",
    "df"
   ],
   "metadata": {
    "collapsed": false,
    "pycharm": {
     "name": "#%%\n"
    }
   }
  },
  {
   "cell_type": "code",
   "execution_count": 53,
   "outputs": [
    {
     "data": {
      "text/plain": "                                      dimension.keys  \\\n0  ['dimension_filter','dimension_filter_value','...   \n1  ['dimension_filter','dimension_filter_value','...   \n2  ['dimension_filter','dimension_filter_value','...   \n3  ['dimension_filter','dimension_filter_value','...   \n\n                               dimension.names   value_key  value_value  \n0  ['campaign_grouping','cdp','facebook','c1']     revenue          120  \n1  ['campaign_grouping','cdp','facebook','c2']     revenue          120  \n2  ['campaign_grouping','cdp','facebook','c1']  conversion          120  \n3  ['campaign_grouping','cdp','facebook','c2']     revenue          120  ",
      "text/html": "<div>\n<style scoped>\n    .dataframe tbody tr th:only-of-type {\n        vertical-align: middle;\n    }\n\n    .dataframe tbody tr th {\n        vertical-align: top;\n    }\n\n    .dataframe thead th {\n        text-align: right;\n    }\n</style>\n<table border=\"1\" class=\"dataframe\">\n  <thead>\n    <tr style=\"text-align: right;\">\n      <th></th>\n      <th>dimension.keys</th>\n      <th>dimension.names</th>\n      <th>value_key</th>\n      <th>value_value</th>\n    </tr>\n  </thead>\n  <tbody>\n    <tr>\n      <th>0</th>\n      <td>['dimension_filter','dimension_filter_value','...</td>\n      <td>['campaign_grouping','cdp','facebook','c1']</td>\n      <td>revenue</td>\n      <td>120</td>\n    </tr>\n    <tr>\n      <th>1</th>\n      <td>['dimension_filter','dimension_filter_value','...</td>\n      <td>['campaign_grouping','cdp','facebook','c2']</td>\n      <td>revenue</td>\n      <td>120</td>\n    </tr>\n    <tr>\n      <th>2</th>\n      <td>['dimension_filter','dimension_filter_value','...</td>\n      <td>['campaign_grouping','cdp','facebook','c1']</td>\n      <td>conversion</td>\n      <td>120</td>\n    </tr>\n    <tr>\n      <th>3</th>\n      <td>['dimension_filter','dimension_filter_value','...</td>\n      <td>['campaign_grouping','cdp','facebook','c2']</td>\n      <td>revenue</td>\n      <td>120</td>\n    </tr>\n  </tbody>\n</table>\n</div>"
     },
     "execution_count": 53,
     "metadata": {},
     "output_type": "execute_result"
    }
   ],
   "source": [
    "df_filtered = df[['dimension.keys','dimension.names','value_key','value_value']]\n",
    "df_filtered"
   ],
   "metadata": {
    "collapsed": false,
    "pycharm": {
     "name": "#%%\n"
    }
   }
  },
  {
   "cell_type": "code",
   "execution_count": 49,
   "outputs": [
    {
     "name": "stderr",
     "output_type": "stream",
     "text": [
      "/home/chile/anaconda3/lib/python3.7/site-packages/ipykernel_launcher.py:2: SettingWithCopyWarning: \n",
      "A value is trying to be set on a copy of a slice from a DataFrame.\n",
      "Try using .loc[row_indexer,col_indexer] = value instead\n",
      "\n",
      "See the caveats in the documentation: https://pandas.pydata.org/pandas-docs/stable/user_guide/indexing.html#returning-a-view-versus-a-copy\n",
      "  \n"
     ]
    }
   ],
   "source": [
    "df_flattened = df_filtered\n",
    "df_flattened['channel'] = df_flattened.apply(lambda r: extract_value_by_key_parallel_array('channel',r[\"dimension.keys\"],r[\"dimension.names\"]), axis=1)"
   ],
   "metadata": {
    "collapsed": false,
    "pycharm": {
     "name": "#%%\n"
    }
   }
  },
  {
   "cell_type": "code",
   "execution_count": 57,
   "outputs": [
    {
     "name": "stdout",
     "output_type": "stream",
     "text": [
      "None\n",
      "None\n",
      "None\n",
      "None\n"
     ]
    },
    {
     "data": {
      "text/plain": "                                      dimension.keys  \\\n0  ['dimension_filter','dimension_filter_value','...   \n1  ['dimension_filter','dimension_filter_value','...   \n2  ['dimension_filter','dimension_filter_value','...   \n3  ['dimension_filter','dimension_filter_value','...   \n\n                               dimension.names   value_key  value_value  \\\n0  ['campaign_grouping','cdp','facebook','c1']     revenue          120   \n1  ['campaign_grouping','cdp','facebook','c2']     revenue          120   \n2  ['campaign_grouping','cdp','facebook','c1']  conversion          120   \n3  ['campaign_grouping','cdp','facebook','c2']     revenue          120   \n\n  channel  \n0    None  \n1    None  \n2    None  \n3    None  ",
      "text/html": "<div>\n<style scoped>\n    .dataframe tbody tr th:only-of-type {\n        vertical-align: middle;\n    }\n\n    .dataframe tbody tr th {\n        vertical-align: top;\n    }\n\n    .dataframe thead th {\n        text-align: right;\n    }\n</style>\n<table border=\"1\" class=\"dataframe\">\n  <thead>\n    <tr style=\"text-align: right;\">\n      <th></th>\n      <th>dimension.keys</th>\n      <th>dimension.names</th>\n      <th>value_key</th>\n      <th>value_value</th>\n      <th>channel</th>\n    </tr>\n  </thead>\n  <tbody>\n    <tr>\n      <th>0</th>\n      <td>['dimension_filter','dimension_filter_value','...</td>\n      <td>['campaign_grouping','cdp','facebook','c1']</td>\n      <td>revenue</td>\n      <td>120</td>\n      <td>None</td>\n    </tr>\n    <tr>\n      <th>1</th>\n      <td>['dimension_filter','dimension_filter_value','...</td>\n      <td>['campaign_grouping','cdp','facebook','c2']</td>\n      <td>revenue</td>\n      <td>120</td>\n      <td>None</td>\n    </tr>\n    <tr>\n      <th>2</th>\n      <td>['dimension_filter','dimension_filter_value','...</td>\n      <td>['campaign_grouping','cdp','facebook','c1']</td>\n      <td>conversion</td>\n      <td>120</td>\n      <td>None</td>\n    </tr>\n    <tr>\n      <th>3</th>\n      <td>['dimension_filter','dimension_filter_value','...</td>\n      <td>['campaign_grouping','cdp','facebook','c2']</td>\n      <td>revenue</td>\n      <td>120</td>\n      <td>None</td>\n    </tr>\n  </tbody>\n</table>\n</div>"
     },
     "execution_count": 57,
     "metadata": {},
     "output_type": "execute_result"
    }
   ],
   "source": [
    "df_flattened.apply(lambda r:print(extract_value_by_key_parallel_array('channel',r[\"dimension.keys\"],r[\"dimension.names\"])), axis=1)\n",
    "\n",
    "df_flattened"
   ],
   "metadata": {
    "collapsed": false,
    "pycharm": {
     "name": "#%%\n"
    }
   }
  },
  {
   "cell_type": "code",
   "execution_count": 61,
   "outputs": [],
   "source": [
    "l1 = ['k1','k2','k3']\n",
    "l2 = ['v1','v2','v3']\n",
    "result =extract_value_by_key_parallel_array('k2',l1,l2)"
   ],
   "metadata": {
    "collapsed": false,
    "pycharm": {
     "name": "#%%\n"
    }
   }
  }
 ],
 "metadata": {
  "kernelspec": {
   "display_name": "Python 3",
   "language": "python",
   "name": "python3"
  },
  "language_info": {
   "codemirror_mode": {
    "name": "ipython",
    "version": 2
   },
   "file_extension": ".py",
   "mimetype": "text/x-python",
   "name": "python",
   "nbconvert_exporter": "python",
   "pygments_lexer": "ipython2",
   "version": "2.7.6"
  }
 },
 "nbformat": 4,
 "nbformat_minor": 0
}