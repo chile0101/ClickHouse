{
 "cells": [
  {
   "cell_type": "code",
   "execution_count": 38,
   "metadata": {
    "collapsed": true
   },
   "outputs": [],
   "source": [
    "import pandas as pd\n",
    "from functools import reduce"
   ]
  },
  {
   "cell_type": "code",
   "execution_count": 14,
   "outputs": [],
   "source": [
    "l1 = [{'utm_content': '20% Discount', 'kpi_net_revenue': 24000000.0},\n",
    "        {'utm_content': 'Free shipping', 'kpi_net_revenue': 24000000.0}]"
   ],
   "metadata": {
    "collapsed": false,
    "pycharm": {
     "name": "#%%\n"
    }
   }
  },
  {
   "cell_type": "code",
   "execution_count": 15,
   "outputs": [],
   "source": [
    "l2 = [{'utm_content': '20% Discount', 'utm_source': 'Facebook', 'kpi_net_revenue': 24000000.0},\n",
    "      {'utm_content': 'Free shipping', 'utm_source': 'Facebook', 'kpi_net_revenue': 24000000.0}]"
   ],
   "metadata": {
    "collapsed": false,
    "pycharm": {
     "name": "#%%\n"
    }
   }
  },
  {
   "cell_type": "code",
   "execution_count": 16,
   "outputs": [],
   "source": [
    "l3 = [{'utm_content': '20% Discount', 'utm_source': 'Facebook', 'device': 'iOS', 'kpi_net_revenue': 24000000.0},\n",
    "      {'utm_content': 'Free shipping', 'utm_source': 'Facebook', 'device': 'iOS', 'kpi_net_revenue': 24000000.0}]"
   ],
   "metadata": {
    "collapsed": false,
    "pycharm": {
     "name": "#%%\n"
    }
   }
  },
  {
   "cell_type": "code",
   "execution_count": 17,
   "outputs": [],
   "source": [
    "l4 = [{'utm_content': '20% Discount', 'utm_source': 'Facebook', 'gender': 'Female', 'kpi_net_revenue': 13200000.0},\n",
    "      {'utm_content': '20% Discount', 'utm_source': 'Facebook', 'gender': 'Male', 'kpi_net_revenue': 10800000.0},\n",
    "      {'utm_content': 'Free shipping', 'utm_source': 'Facebook', 'gender': 'Female', 'kpi_net_revenue': 14400000.0},\n",
    "      {'utm_content': 'Free shipping', 'utm_source': 'Facebook', 'gender': 'Male', 'kpi_net_revenue': 9600000.0}]"
   ],
   "metadata": {
    "collapsed": false,
    "pycharm": {
     "name": "#%%\n"
    }
   }
  },
  {
   "cell_type": "code",
   "execution_count": 18,
   "outputs": [],
   "source": [
    "l5 = [{'utm_content': '20% Discount', 'utm_source': 'Facebook', 'location': 'Biên Hòa', 'kpi_net_revenue': 2400000.0},\n",
    "      {'utm_content': '20% Discount', 'utm_source': 'Facebook', 'location': 'Cần Thơ', 'kpi_net_revenue': 1200000.0},\n",
    "      {'utm_content': '20% Discount', 'utm_source': 'Facebook', 'location': 'Dắc Lăk', 'kpi_net_revenue': 2400000.0},\n",
    "      {'utm_content': '20% Discount', 'utm_source': 'Facebook', 'location': 'Hải Phòng', 'kpi_net_revenue': 2400000.0},\n",
    "      {'utm_content': '20% Discount', 'utm_source': 'Facebook', 'location': 'Hồ Chí Minh', 'kpi_net_revenue': 1200000.0},\n",
    "      {'utm_content': 'Free shipping', 'utm_source': 'Facebook', 'location': 'Nam Định', 'kpi_net_revenue': 2400000.0},\n",
    "      {'utm_content': 'Free shipping', 'utm_source': 'Facebook', 'location': 'Ninh Bình', 'kpi_net_revenue': 1200000.0},\n",
    "      {'utm_content': 'Free shipping', 'utm_source': 'Facebook', 'location': 'Quy Nhơn', 'kpi_net_revenue': 4800000.0},\n",
    "      {'utm_content': 'Free shipping', 'utm_source': 'Facebook', 'location': 'Quảng Bình', 'kpi_net_revenue': 1200000.0}]"
   ],
   "metadata": {
    "collapsed": false,
    "pycharm": {
     "name": "#%%\n"
    }
   }
  },
  {
   "cell_type": "code",
   "execution_count": 12,
   "outputs": [
    {
     "ename": "NameError",
     "evalue": "name 'l2' is not defined",
     "output_type": "error",
     "traceback": [
      "\u001B[0;31m---------------------------------------------------------------------------\u001B[0m",
      "\u001B[0;31mNameError\u001B[0m                                 Traceback (most recent call last)",
      "\u001B[0;32m<ipython-input-12-73cc7332c51e>\u001B[0m in \u001B[0;36m<module>\u001B[0;34m\u001B[0m\n\u001B[1;32m      1\u001B[0m \u001B[0mgroups\u001B[0m \u001B[0;34m=\u001B[0m \u001B[0;34m[\u001B[0m\u001B[0;34m]\u001B[0m\u001B[0;34m\u001B[0m\u001B[0;34m\u001B[0m\u001B[0m\n\u001B[0;32m----> 2\u001B[0;31m \u001B[0mgroups\u001B[0m\u001B[0;34m.\u001B[0m\u001B[0mextend\u001B[0m\u001B[0;34m(\u001B[0m\u001B[0;34m[\u001B[0m\u001B[0ml1\u001B[0m\u001B[0;34m,\u001B[0m\u001B[0ml2\u001B[0m\u001B[0;34m,\u001B[0m\u001B[0ml3\u001B[0m\u001B[0;34m,\u001B[0m\u001B[0ml4\u001B[0m\u001B[0;34m,\u001B[0m\u001B[0ml5\u001B[0m\u001B[0;34m]\u001B[0m\u001B[0;34m)\u001B[0m\u001B[0;34m\u001B[0m\u001B[0;34m\u001B[0m\u001B[0m\n\u001B[0m\u001B[1;32m      3\u001B[0m \u001B[0;34m\u001B[0m\u001B[0m\n\u001B[1;32m      4\u001B[0m \u001B[0;34m\u001B[0m\u001B[0m\n",
      "\u001B[0;31mNameError\u001B[0m: name 'l2' is not defined"
     ]
    }
   ],
   "source": [],
   "metadata": {
    "collapsed": false,
    "pycharm": {
     "name": "#%%\n"
    }
   }
  },
  {
   "cell_type": "code",
   "execution_count": null,
   "outputs": [],
   "source": [],
   "metadata": {
    "collapsed": false,
    "pycharm": {
     "name": "#%%\n"
    }
   }
  },
  {
   "cell_type": "code",
   "execution_count": 21,
   "outputs": [],
   "source": [
    "df1 = pd.DataFrame.from_dict(l1)\n",
    "df2 = pd.DataFrame.from_dict(l2)\n",
    "df3 = pd.DataFrame.from_dict(l3)\n",
    "df4 = pd.DataFrame.from_dict(l4)\n",
    "df5 = pd.DataFrame.from_dict(l5)"
   ],
   "metadata": {
    "collapsed": false,
    "pycharm": {
     "name": "#%%\n"
    }
   }
  },
  {
   "cell_type": "code",
   "execution_count": 34,
   "outputs": [
    {
     "data": {
      "text/plain": "     utm_content  kpi_net_revenue\n0   20% Discount       24000000.0\n1  Free shipping       24000000.0",
      "text/html": "<div>\n<style scoped>\n    .dataframe tbody tr th:only-of-type {\n        vertical-align: middle;\n    }\n\n    .dataframe tbody tr th {\n        vertical-align: top;\n    }\n\n    .dataframe thead th {\n        text-align: right;\n    }\n</style>\n<table border=\"1\" class=\"dataframe\">\n  <thead>\n    <tr style=\"text-align: right;\">\n      <th></th>\n      <th>utm_content</th>\n      <th>kpi_net_revenue</th>\n    </tr>\n  </thead>\n  <tbody>\n    <tr>\n      <th>0</th>\n      <td>20% Discount</td>\n      <td>24000000.0</td>\n    </tr>\n    <tr>\n      <th>1</th>\n      <td>Free shipping</td>\n      <td>24000000.0</td>\n    </tr>\n  </tbody>\n</table>\n</div>"
     },
     "execution_count": 34,
     "metadata": {},
     "output_type": "execute_result"
    }
   ],
   "source": [],
   "metadata": {
    "collapsed": false,
    "pycharm": {
     "name": "#%%\n"
    }
   }
  },
  {
   "cell_type": "code",
   "execution_count": 41,
   "outputs": [],
   "source": [
    "groups = []\n",
    "groups.extend([df1,df2,df3,df4,df5])"
   ],
   "metadata": {
    "collapsed": false,
    "pycharm": {
     "name": "#%%\n"
    }
   }
  },
  {
   "cell_type": "code",
   "execution_count": 42,
   "outputs": [],
   "source": [
    "groups_df = reduce(lambda left, right: pd.concat([left, right], sort=False), groups)"
   ],
   "metadata": {
    "collapsed": false,
    "pycharm": {
     "name": "#%%\n"
    }
   }
  },
  {
   "cell_type": "code",
   "execution_count": 44,
   "outputs": [],
   "source": [
    "base_column_all_dimension = ['utm_content', 'utm_source', 'device', 'gender', 'location']\n",
    "re_order_cols = ['utm_content', 'utm_source', 'device', 'gender', 'location', 'kpi_net_revenue']"
   ],
   "metadata": {
    "collapsed": false,
    "pycharm": {
     "name": "#%%\n"
    }
   }
  },
  {
   "cell_type": "code",
   "execution_count": 45,
   "outputs": [],
   "source": [
    "group_metrics = groups_df[re_order_cols].fillna(\"\").groupby(base_column_all_dimension).sum()"
   ],
   "metadata": {
    "collapsed": false,
    "pycharm": {
     "name": "#%%\n"
    }
   }
  },
  {
   "cell_type": "code",
   "execution_count": 46,
   "outputs": [
    {
     "data": {
      "text/plain": "                                                    kpi_net_revenue\nutm_content   utm_source device gender location                    \n20% Discount                                             24000000.0\n              Facebook                                   24000000.0\n                                       Biên Hòa           2400000.0\n                                       Cần Thơ            1200000.0\n                                       Dắc Lăk            2400000.0\n                                       Hải Phòng          2400000.0\n                                       Hồ Chí Minh        1200000.0\n                                Female                   13200000.0\n                                Male                     10800000.0\n                         iOS                             24000000.0\nFree shipping                                            24000000.0\n              Facebook                                   24000000.0\n                                       Nam Định           2400000.0\n                                       Ninh Bình          1200000.0\n                                       Quy Nhơn           4800000.0\n                                       Quảng Bình         1200000.0\n                                Female                   14400000.0\n                                Male                      9600000.0\n                         iOS                             24000000.0",
      "text/html": "<div>\n<style scoped>\n    .dataframe tbody tr th:only-of-type {\n        vertical-align: middle;\n    }\n\n    .dataframe tbody tr th {\n        vertical-align: top;\n    }\n\n    .dataframe thead th {\n        text-align: right;\n    }\n</style>\n<table border=\"1\" class=\"dataframe\">\n  <thead>\n    <tr style=\"text-align: right;\">\n      <th></th>\n      <th></th>\n      <th></th>\n      <th></th>\n      <th></th>\n      <th>kpi_net_revenue</th>\n    </tr>\n    <tr>\n      <th>utm_content</th>\n      <th>utm_source</th>\n      <th>device</th>\n      <th>gender</th>\n      <th>location</th>\n      <th></th>\n    </tr>\n  </thead>\n  <tbody>\n    <tr>\n      <th rowspan=\"10\" valign=\"top\">20% Discount</th>\n      <th></th>\n      <th></th>\n      <th></th>\n      <th></th>\n      <td>24000000.0</td>\n    </tr>\n    <tr>\n      <th rowspan=\"9\" valign=\"top\">Facebook</th>\n      <th rowspan=\"8\" valign=\"top\"></th>\n      <th rowspan=\"6\" valign=\"top\"></th>\n      <th></th>\n      <td>24000000.0</td>\n    </tr>\n    <tr>\n      <th>Biên Hòa</th>\n      <td>2400000.0</td>\n    </tr>\n    <tr>\n      <th>Cần Thơ</th>\n      <td>1200000.0</td>\n    </tr>\n    <tr>\n      <th>Dắc Lăk</th>\n      <td>2400000.0</td>\n    </tr>\n    <tr>\n      <th>Hải Phòng</th>\n      <td>2400000.0</td>\n    </tr>\n    <tr>\n      <th>Hồ Chí Minh</th>\n      <td>1200000.0</td>\n    </tr>\n    <tr>\n      <th>Female</th>\n      <th></th>\n      <td>13200000.0</td>\n    </tr>\n    <tr>\n      <th>Male</th>\n      <th></th>\n      <td>10800000.0</td>\n    </tr>\n    <tr>\n      <th>iOS</th>\n      <th></th>\n      <th></th>\n      <td>24000000.0</td>\n    </tr>\n    <tr>\n      <th rowspan=\"9\" valign=\"top\">Free shipping</th>\n      <th></th>\n      <th></th>\n      <th></th>\n      <th></th>\n      <td>24000000.0</td>\n    </tr>\n    <tr>\n      <th rowspan=\"8\" valign=\"top\">Facebook</th>\n      <th rowspan=\"7\" valign=\"top\"></th>\n      <th rowspan=\"5\" valign=\"top\"></th>\n      <th></th>\n      <td>24000000.0</td>\n    </tr>\n    <tr>\n      <th>Nam Định</th>\n      <td>2400000.0</td>\n    </tr>\n    <tr>\n      <th>Ninh Bình</th>\n      <td>1200000.0</td>\n    </tr>\n    <tr>\n      <th>Quy Nhơn</th>\n      <td>4800000.0</td>\n    </tr>\n    <tr>\n      <th>Quảng Bình</th>\n      <td>1200000.0</td>\n    </tr>\n    <tr>\n      <th>Female</th>\n      <th></th>\n      <td>14400000.0</td>\n    </tr>\n    <tr>\n      <th>Male</th>\n      <th></th>\n      <td>9600000.0</td>\n    </tr>\n    <tr>\n      <th>iOS</th>\n      <th></th>\n      <th></th>\n      <td>24000000.0</td>\n    </tr>\n  </tbody>\n</table>\n</div>"
     },
     "execution_count": 46,
     "metadata": {},
     "output_type": "execute_result"
    }
   ],
   "source": [
    "group_metrics"
   ],
   "metadata": {
    "collapsed": false,
    "pycharm": {
     "name": "#%%\n"
    }
   }
  },
  {
   "cell_type": "code",
   "execution_count": 47,
   "outputs": [
    {
     "data": {
      "text/plain": "     utm_content  kpi_net_revenue utm_source device  gender     location\n0   20% Discount       24000000.0        NaN    NaN     NaN          NaN\n1  Free shipping       24000000.0        NaN    NaN     NaN          NaN\n0   20% Discount       24000000.0   Facebook    NaN     NaN          NaN\n1  Free shipping       24000000.0   Facebook    NaN     NaN          NaN\n0   20% Discount       24000000.0   Facebook    iOS     NaN          NaN\n1  Free shipping       24000000.0   Facebook    iOS     NaN          NaN\n0   20% Discount       13200000.0   Facebook    NaN  Female          NaN\n1   20% Discount       10800000.0   Facebook    NaN    Male          NaN\n2  Free shipping       14400000.0   Facebook    NaN  Female          NaN\n3  Free shipping        9600000.0   Facebook    NaN    Male          NaN\n0   20% Discount        2400000.0   Facebook    NaN     NaN     Biên Hòa\n1   20% Discount        1200000.0   Facebook    NaN     NaN      Cần Thơ\n2   20% Discount        2400000.0   Facebook    NaN     NaN      Dắc Lăk\n3   20% Discount        2400000.0   Facebook    NaN     NaN    Hải Phòng\n4   20% Discount        1200000.0   Facebook    NaN     NaN  Hồ Chí Minh\n5  Free shipping        2400000.0   Facebook    NaN     NaN     Nam Định\n6  Free shipping        1200000.0   Facebook    NaN     NaN    Ninh Bình\n7  Free shipping        4800000.0   Facebook    NaN     NaN     Quy Nhơn\n8  Free shipping        1200000.0   Facebook    NaN     NaN   Quảng Bình",
      "text/html": "<div>\n<style scoped>\n    .dataframe tbody tr th:only-of-type {\n        vertical-align: middle;\n    }\n\n    .dataframe tbody tr th {\n        vertical-align: top;\n    }\n\n    .dataframe thead th {\n        text-align: right;\n    }\n</style>\n<table border=\"1\" class=\"dataframe\">\n  <thead>\n    <tr style=\"text-align: right;\">\n      <th></th>\n      <th>utm_content</th>\n      <th>kpi_net_revenue</th>\n      <th>utm_source</th>\n      <th>device</th>\n      <th>gender</th>\n      <th>location</th>\n    </tr>\n  </thead>\n  <tbody>\n    <tr>\n      <th>0</th>\n      <td>20% Discount</td>\n      <td>24000000.0</td>\n      <td>NaN</td>\n      <td>NaN</td>\n      <td>NaN</td>\n      <td>NaN</td>\n    </tr>\n    <tr>\n      <th>1</th>\n      <td>Free shipping</td>\n      <td>24000000.0</td>\n      <td>NaN</td>\n      <td>NaN</td>\n      <td>NaN</td>\n      <td>NaN</td>\n    </tr>\n    <tr>\n      <th>0</th>\n      <td>20% Discount</td>\n      <td>24000000.0</td>\n      <td>Facebook</td>\n      <td>NaN</td>\n      <td>NaN</td>\n      <td>NaN</td>\n    </tr>\n    <tr>\n      <th>1</th>\n      <td>Free shipping</td>\n      <td>24000000.0</td>\n      <td>Facebook</td>\n      <td>NaN</td>\n      <td>NaN</td>\n      <td>NaN</td>\n    </tr>\n    <tr>\n      <th>0</th>\n      <td>20% Discount</td>\n      <td>24000000.0</td>\n      <td>Facebook</td>\n      <td>iOS</td>\n      <td>NaN</td>\n      <td>NaN</td>\n    </tr>\n    <tr>\n      <th>1</th>\n      <td>Free shipping</td>\n      <td>24000000.0</td>\n      <td>Facebook</td>\n      <td>iOS</td>\n      <td>NaN</td>\n      <td>NaN</td>\n    </tr>\n    <tr>\n      <th>0</th>\n      <td>20% Discount</td>\n      <td>13200000.0</td>\n      <td>Facebook</td>\n      <td>NaN</td>\n      <td>Female</td>\n      <td>NaN</td>\n    </tr>\n    <tr>\n      <th>1</th>\n      <td>20% Discount</td>\n      <td>10800000.0</td>\n      <td>Facebook</td>\n      <td>NaN</td>\n      <td>Male</td>\n      <td>NaN</td>\n    </tr>\n    <tr>\n      <th>2</th>\n      <td>Free shipping</td>\n      <td>14400000.0</td>\n      <td>Facebook</td>\n      <td>NaN</td>\n      <td>Female</td>\n      <td>NaN</td>\n    </tr>\n    <tr>\n      <th>3</th>\n      <td>Free shipping</td>\n      <td>9600000.0</td>\n      <td>Facebook</td>\n      <td>NaN</td>\n      <td>Male</td>\n      <td>NaN</td>\n    </tr>\n    <tr>\n      <th>0</th>\n      <td>20% Discount</td>\n      <td>2400000.0</td>\n      <td>Facebook</td>\n      <td>NaN</td>\n      <td>NaN</td>\n      <td>Biên Hòa</td>\n    </tr>\n    <tr>\n      <th>1</th>\n      <td>20% Discount</td>\n      <td>1200000.0</td>\n      <td>Facebook</td>\n      <td>NaN</td>\n      <td>NaN</td>\n      <td>Cần Thơ</td>\n    </tr>\n    <tr>\n      <th>2</th>\n      <td>20% Discount</td>\n      <td>2400000.0</td>\n      <td>Facebook</td>\n      <td>NaN</td>\n      <td>NaN</td>\n      <td>Dắc Lăk</td>\n    </tr>\n    <tr>\n      <th>3</th>\n      <td>20% Discount</td>\n      <td>2400000.0</td>\n      <td>Facebook</td>\n      <td>NaN</td>\n      <td>NaN</td>\n      <td>Hải Phòng</td>\n    </tr>\n    <tr>\n      <th>4</th>\n      <td>20% Discount</td>\n      <td>1200000.0</td>\n      <td>Facebook</td>\n      <td>NaN</td>\n      <td>NaN</td>\n      <td>Hồ Chí Minh</td>\n    </tr>\n    <tr>\n      <th>5</th>\n      <td>Free shipping</td>\n      <td>2400000.0</td>\n      <td>Facebook</td>\n      <td>NaN</td>\n      <td>NaN</td>\n      <td>Nam Định</td>\n    </tr>\n    <tr>\n      <th>6</th>\n      <td>Free shipping</td>\n      <td>1200000.0</td>\n      <td>Facebook</td>\n      <td>NaN</td>\n      <td>NaN</td>\n      <td>Ninh Bình</td>\n    </tr>\n    <tr>\n      <th>7</th>\n      <td>Free shipping</td>\n      <td>4800000.0</td>\n      <td>Facebook</td>\n      <td>NaN</td>\n      <td>NaN</td>\n      <td>Quy Nhơn</td>\n    </tr>\n    <tr>\n      <th>8</th>\n      <td>Free shipping</td>\n      <td>1200000.0</td>\n      <td>Facebook</td>\n      <td>NaN</td>\n      <td>NaN</td>\n      <td>Quảng Bình</td>\n    </tr>\n  </tbody>\n</table>\n</div>"
     },
     "execution_count": 47,
     "metadata": {},
     "output_type": "execute_result"
    }
   ],
   "source": [
    "groups_df"
   ],
   "metadata": {
    "collapsed": false,
    "pycharm": {
     "name": "#%%\n"
    }
   }
  },
  {
   "cell_type": "code",
   "execution_count": null,
   "outputs": [],
   "source": [],
   "metadata": {
    "collapsed": false,
    "pycharm": {
     "name": "#%%\n"
    }
   }
  },
  {
   "cell_type": "code",
   "execution_count": 54,
   "outputs": [],
   "source": [
    "t1 = pd.DataFrame.from_dict([{'a': 1,'b': 2,'c': 10},\n",
    "                             {'a': 1, 'b': 2, 'c': 20},\n",
    "                             {'a': 2, 'c': 4}])\n",
    "t = t1.groupby(['a','b']).sum()"
   ],
   "metadata": {
    "collapsed": false,
    "pycharm": {
     "name": "#%%\n"
    }
   }
  },
  {
   "cell_type": "code",
   "execution_count": 55,
   "outputs": [
    {
     "data": {
      "text/plain": "        c\na b      \n1 2.0  30",
      "text/html": "<div>\n<style scoped>\n    .dataframe tbody tr th:only-of-type {\n        vertical-align: middle;\n    }\n\n    .dataframe tbody tr th {\n        vertical-align: top;\n    }\n\n    .dataframe thead th {\n        text-align: right;\n    }\n</style>\n<table border=\"1\" class=\"dataframe\">\n  <thead>\n    <tr style=\"text-align: right;\">\n      <th></th>\n      <th></th>\n      <th>c</th>\n    </tr>\n    <tr>\n      <th>a</th>\n      <th>b</th>\n      <th></th>\n    </tr>\n  </thead>\n  <tbody>\n    <tr>\n      <th>1</th>\n      <th>2.0</th>\n      <td>30</td>\n    </tr>\n  </tbody>\n</table>\n</div>"
     },
     "execution_count": 55,
     "metadata": {},
     "output_type": "execute_result"
    }
   ],
   "source": [
    "t\n",
    "\n"
   ],
   "metadata": {
    "collapsed": false,
    "pycharm": {
     "name": "#%%\n"
    }
   }
  },
  {
   "cell_type": "code",
   "execution_count": null,
   "outputs": [],
   "source": [],
   "metadata": {
    "collapsed": false,
    "pycharm": {
     "name": "#%%\n"
    }
   }
  }
 ],
 "metadata": {
  "kernelspec": {
   "display_name": "Python 3",
   "language": "python",
   "name": "python3"
  },
  "language_info": {
   "codemirror_mode": {
    "name": "ipython",
    "version": 2
   },
   "file_extension": ".py",
   "mimetype": "text/x-python",
   "name": "python",
   "nbconvert_exporter": "python",
   "pygments_lexer": "ipython2",
   "version": "2.7.6"
  }
 },
 "nbformat": 4,
 "nbformat_minor": 0
}